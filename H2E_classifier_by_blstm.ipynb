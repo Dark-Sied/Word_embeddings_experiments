{
  "nbformat": 4,
  "nbformat_minor": 0,
  "metadata": {
    "colab": {
      "name": "H2E classifier.ipynb",
      "version": "0.3.2",
      "provenance": [],
      "collapsed_sections": [],
      "toc_visible": true,
      "include_colab_link": true
    },
    "kernelspec": {
      "name": "python3",
      "display_name": "Python 3"
    },
    "accelerator": "GPU"
  },
  "cells": [
    {
      "cell_type": "markdown",
      "metadata": {
        "id": "view-in-github",
        "colab_type": "text"
      },
      "source": [
        "[View in Colaboratory](https://colab.research.google.com/github/Dark-Sied/Word_embeddings_experiments/blob/master/H2E_classifier_by_blstm.ipynb)"
      ]
    },
    {
      "metadata": {
        "id": "kNvMGJz8tq48",
        "colab_type": "text"
      },
      "cell_type": "markdown",
      "source": [
        "# H2E classifier\n",
        "Hinglish to English classifier using LSTM"
      ]
    },
    {
      "metadata": {
        "id": "5ILzM_2GuSwO",
        "colab_type": "text"
      },
      "cell_type": "markdown",
      "source": [
        "##Uploading cleaned data and stopwords for hinglish\n"
      ]
    },
    {
      "metadata": {
        "id": "hQKF362KwK9M",
        "colab_type": "code",
        "colab": {
          "resources": {
            "http://localhost:8080/nbextensions/google.colab/files.js": {
              "data": "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",
              "ok": true,
              "headers": [
                [
                  "content-type",
                  "application/javascript"
                ]
              ],
              "status": 200,
              "status_text": ""
            }
          },
          "base_uri": "https://localhost:8080/",
          "height": 109
        },
        "outputId": "cbe3ab21-4dfb-4672-d99e-daed03691b57"
      },
      "cell_type": "code",
      "source": [
        "from google.colab import files\n",
        "files.upload()\n"
      ],
      "execution_count": 3,
      "outputs": [
        {
          "output_type": "display_data",
          "data": {
            "text/html": [
              "\n",
              "     <input type=\"file\" id=\"files-edbd229f-537b-480e-bfcb-98526736392c\" name=\"files[]\" multiple disabled />\n",
              "     <output id=\"result-edbd229f-537b-480e-bfcb-98526736392c\">\n",
              "      Upload widget is only available when the cell has been executed in the\n",
              "      current browser session. Please rerun this cell to enable.\n",
              "      </output>\n",
              "      <script src=\"/nbextensions/google.colab/files.js\"></script> "
            ],
            "text/plain": [
              "<IPython.core.display.HTML object>"
            ]
          },
          "metadata": {
            "tags": []
          }
        },
        {
          "output_type": "stream",
          "text": [
            "Saving stopwords_list.txt to stopwords_list.txt\n"
          ],
          "name": "stdout"
        },
        {
          "output_type": "execute_result",
          "data": {
            "text/plain": [
              "{'stopwords_list.txt': b'ke\\nka\\nek\\nmein\\nki\\nhai\\nyah\\naur\\nse\\nhain\\nko\\npar\\niss\\nhota\\njo\\nkar\\nme\\ngaya\\nkarne\\nkiya\\nliye\\napne\\nne\\nbani\\nnahi\\ntoh\\nhi\\nya\\navam\\ndiya\\nho\\niska\\ntha\\ndhvara\\nhua\\ntak\\nsaath\\nkarna\\nvaale\\nbaad\\nliya\\naap\\nkuchh\\nsakte\\nkisi\\nye\\niska\\nsabse\\nismein\\nthe\\ndo\\nhone\\nvah\\nve\\nkarte\\nbahut\\nkaha\\nvarg\\nkai\\nkarein\\nhoti\\napni\\nunke\\nthi\\nyadi\\nhui\\njaa\\nna\\nise\\nkehte\\nkahte\\njab\\nhote\\nkoi\\nhue\\nva\\nabhi\\njaise\\nsabhi\\nkarta\\nunki\\ntarah\\nuss\\naadi\\nkul\\nraha\\niski\\nsakta\\nrahe\\nunka\\nissi\\nrakhein\\napna\\npe\\nuske\\n'}"
            ]
          },
          "metadata": {
            "tags": []
          },
          "execution_count": 3
        }
      ]
    },
    {
      "metadata": {
        "id": "0IQSkTf7F6kP",
        "colab_type": "code",
        "colab": {
          "base_uri": "https://localhost:8080/",
          "height": 34
        },
        "outputId": "b10c3ab3-cfb0-4e16-e7d1-2f5a8000fbbb"
      },
      "cell_type": "code",
      "source": [
        "!ls"
      ],
      "execution_count": 4,
      "outputs": [
        {
          "output_type": "stream",
          "text": [
            "english_text.csv  hinglish_text.csv  sample_data  stopwords_list.txt\n"
          ],
          "name": "stdout"
        }
      ]
    },
    {
      "metadata": {
        "id": "-mo2NqZZuziu",
        "colab_type": "text"
      },
      "cell_type": "markdown",
      "source": [
        "##Importing modules"
      ]
    },
    {
      "metadata": {
        "id": "YTMH9s0LOVfE",
        "colab_type": "code",
        "colab": {
          "base_uri": "https://localhost:8080/",
          "height": 34
        },
        "outputId": "3af9fe55-ef2e-4d72-8ce2-db9e3dc9b4b7"
      },
      "cell_type": "code",
      "source": [
        "import pandas as pd\n",
        "import numpy as np\n",
        "from nltk.corpus import stopwords\n",
        "from nltk.tokenize import sent_tokenize, word_tokenize\n",
        "from keras.preprocessing.text import Tokenizer\n",
        "from keras.utils import to_categorical\n",
        "from keras.optimizers import RMSprop, Adam\n",
        "import random\n",
        "import nltk\n",
        "from sklearn.utils import shuffle\n",
        "from sklearn.model_selection import train_test_split\n",
        "from keras.models import load_model\n",
        "import matplotlib.pyplot as plt\n",
        "\n",
        "from keras.models import Sequential\n",
        "from keras.layers import Dense, LSTM, Bidirectional, Embedding, Dropout\n",
        "from keras.layers import Flatten\n",
        "from keras.layers.embeddings import Embedding\n",
        "from keras.callbacks import ModelCheckpoint\n",
        "\n",
        "\n",
        "%matplotlib inline"
      ],
      "execution_count": 5,
      "outputs": [
        {
          "output_type": "stream",
          "text": [
            "Using TensorFlow backend.\n"
          ],
          "name": "stderr"
        }
      ]
    },
    {
      "metadata": {
        "id": "M6jg7ufZ0lcD",
        "colab_type": "code",
        "colab": {
          "base_uri": "https://localhost:8080/",
          "height": 102
        },
        "outputId": "7806e255-f649-4317-860a-82c849299096"
      },
      "cell_type": "code",
      "source": [
        "nltk.download(\"stopwords\")\n",
        "nltk.download(\"punkt\")"
      ],
      "execution_count": 6,
      "outputs": [
        {
          "output_type": "stream",
          "text": [
            "[nltk_data] Downloading package stopwords to /root/nltk_data...\n",
            "[nltk_data]   Unzipping corpora/stopwords.zip.\n",
            "[nltk_data] Downloading package punkt to /root/nltk_data...\n",
            "[nltk_data]   Unzipping tokenizers/punkt.zip.\n"
          ],
          "name": "stdout"
        },
        {
          "output_type": "execute_result",
          "data": {
            "text/plain": [
              "True"
            ]
          },
          "metadata": {
            "tags": []
          },
          "execution_count": 6
        }
      ]
    },
    {
      "metadata": {
        "id": "IyIChSeYvp45",
        "colab_type": "text"
      },
      "cell_type": "markdown",
      "source": [
        "##Retrieving english dataset \n",
        "Taking only 8000 sentences and neglects remaining data"
      ]
    },
    {
      "metadata": {
        "id": "4bvj5aJede-7",
        "colab_type": "code",
        "colab": {
          "base_uri": "https://localhost:8080/",
          "height": 204
        },
        "outputId": "a3e95c84-e57a-43ce-95c4-1611837a287e"
      },
      "cell_type": "code",
      "source": [
        "english = pd.read_csv(\"english_text.csv\")\n",
        "new_english = english[:8000]\n",
        "new_english.head()\n"
      ],
      "execution_count": 7,
      "outputs": [
        {
          "output_type": "execute_result",
          "data": {
            "text/html": [
              "<div>\n",
              "<style scoped>\n",
              "    .dataframe tbody tr th:only-of-type {\n",
              "        vertical-align: middle;\n",
              "    }\n",
              "\n",
              "    .dataframe tbody tr th {\n",
              "        vertical-align: top;\n",
              "    }\n",
              "\n",
              "    .dataframe thead th {\n",
              "        text-align: right;\n",
              "    }\n",
              "</style>\n",
              "<table border=\"1\" class=\"dataframe\">\n",
              "  <thead>\n",
              "    <tr style=\"text-align: right;\">\n",
              "      <th></th>\n",
              "      <th>Unnamed: 0</th>\n",
              "      <th>text</th>\n",
              "    </tr>\n",
              "  </thead>\n",
              "  <tbody>\n",
              "    <tr>\n",
              "      <th>0</th>\n",
              "      <td>0</td>\n",
              "      <td>Harry Potter and the Sorcerers Stone</td>\n",
              "    </tr>\n",
              "    <tr>\n",
              "      <th>1</th>\n",
              "      <td>1</td>\n",
              "      <td>CHAPTER ONE</td>\n",
              "    </tr>\n",
              "    <tr>\n",
              "      <th>2</th>\n",
              "      <td>2</td>\n",
              "      <td>THE BOY WHO LIVED</td>\n",
              "    </tr>\n",
              "    <tr>\n",
              "      <th>3</th>\n",
              "      <td>3</td>\n",
              "      <td>Mr and Mrs Dursley of number four Privet Drive...</td>\n",
              "    </tr>\n",
              "    <tr>\n",
              "      <th>4</th>\n",
              "      <td>4</td>\n",
              "      <td>Mr Dursley was the director of a firm called G...</td>\n",
              "    </tr>\n",
              "  </tbody>\n",
              "</table>\n",
              "</div>"
            ],
            "text/plain": [
              "   Unnamed: 0                                               text\n",
              "0           0               Harry Potter and the Sorcerers Stone\n",
              "1           1                                        CHAPTER ONE\n",
              "2           2                                  THE BOY WHO LIVED\n",
              "3           3  Mr and Mrs Dursley of number four Privet Drive...\n",
              "4           4  Mr Dursley was the director of a firm called G..."
            ]
          },
          "metadata": {
            "tags": []
          },
          "execution_count": 7
        }
      ]
    },
    {
      "metadata": {
        "id": "H22BBE92whBY",
        "colab_type": "text"
      },
      "cell_type": "markdown",
      "source": [
        "##Retrieving hinglish dataset\n"
      ]
    },
    {
      "metadata": {
        "id": "08-dJsq_Pss8",
        "colab_type": "code",
        "colab": {
          "base_uri": "https://localhost:8080/",
          "height": 204
        },
        "outputId": "1af6827f-0b9c-49b6-99ac-d5f2e2dc12c0"
      },
      "cell_type": "code",
      "source": [
        "hinglish = pd.read_csv(\"hinglish_text.csv\")\n",
        "hinglish.head()\n"
      ],
      "execution_count": 8,
      "outputs": [
        {
          "output_type": "execute_result",
          "data": {
            "text/html": [
              "<div>\n",
              "<style scoped>\n",
              "    .dataframe tbody tr th:only-of-type {\n",
              "        vertical-align: middle;\n",
              "    }\n",
              "\n",
              "    .dataframe tbody tr th {\n",
              "        vertical-align: top;\n",
              "    }\n",
              "\n",
              "    .dataframe thead th {\n",
              "        text-align: right;\n",
              "    }\n",
              "</style>\n",
              "<table border=\"1\" class=\"dataframe\">\n",
              "  <thead>\n",
              "    <tr style=\"text-align: right;\">\n",
              "      <th></th>\n",
              "      <th>Unnamed: 0</th>\n",
              "      <th>text</th>\n",
              "    </tr>\n",
              "  </thead>\n",
              "  <tbody>\n",
              "    <tr>\n",
              "      <th>0</th>\n",
              "      <td>0</td>\n",
              "      <td>ek din mujhe yunivarsal kampani ke karl laeeml...</td>\n",
              "    </tr>\n",
              "    <tr>\n",
              "      <th>1</th>\n",
              "      <td>1</td>\n",
              "      <td>jess robins nam ke ek yuva jo aisene kampani k...</td>\n",
              "    </tr>\n",
              "    <tr>\n",
              "      <th>2</th>\n",
              "      <td>2</td>\n",
              "      <td>us rat mainne robins ko dinar par aamantrit ki...</td>\n",
              "    </tr>\n",
              "    <tr>\n",
              "      <th>3</th>\n",
              "      <td>3</td>\n",
              "      <td>main sataven aasaman par tha prastav itana sha...</td>\n",
              "    </tr>\n",
              "    <tr>\n",
              "      <th>4</th>\n",
              "      <td>4</td>\n",
              "      <td>halanki mere shak ne sir uthana shuroo kar diy...</td>\n",
              "    </tr>\n",
              "  </tbody>\n",
              "</table>\n",
              "</div>"
            ],
            "text/plain": [
              "   Unnamed: 0                                               text\n",
              "0           0  ek din mujhe yunivarsal kampani ke karl laeeml...\n",
              "1           1  jess robins nam ke ek yuva jo aisene kampani k...\n",
              "2           2  us rat mainne robins ko dinar par aamantrit ki...\n",
              "3           3  main sataven aasaman par tha prastav itana sha...\n",
              "4           4  halanki mere shak ne sir uthana shuroo kar diy..."
            ]
          },
          "metadata": {
            "tags": []
          },
          "execution_count": 8
        }
      ]
    },
    {
      "metadata": {
        "id": "yoraRwxOeZJ3",
        "colab_type": "code",
        "colab": {
          "base_uri": "https://localhost:8080/",
          "height": 51
        },
        "outputId": "a14724c9-7b3a-492c-c69d-3333d66667c6"
      },
      "cell_type": "code",
      "source": [
        "print(\"Length of english data = \", len(new_english))\n",
        "print(\"Length of hinglish data = \", len(hinglish))"
      ],
      "execution_count": 9,
      "outputs": [
        {
          "output_type": "stream",
          "text": [
            "Length of english data =  8000\n",
            "Length of hinglish data =  4470\n"
          ],
          "name": "stdout"
        }
      ]
    },
    {
      "metadata": {
        "id": "WCllSTMPwxn9",
        "colab_type": "text"
      },
      "cell_type": "markdown",
      "source": [
        "##Function to remove english stopwords"
      ]
    },
    {
      "metadata": {
        "id": "r5C7qXjEc7ZC",
        "colab_type": "code",
        "colab": {}
      },
      "cell_type": "code",
      "source": [
        "def remove_english_stopword(text):\n",
        "  stop_words = set(stopwords.words(\"english\"))\n",
        "  words = [[w for w in s.lower().split() if w not in stop_words]for s in text]\n",
        "  return words "
      ],
      "execution_count": 0,
      "outputs": []
    },
    {
      "metadata": {
        "id": "Y9xkRaO_w5RT",
        "colab_type": "text"
      },
      "cell_type": "markdown",
      "source": [
        "##Fucntion to remove hinglish stopwords"
      ]
    },
    {
      "metadata": {
        "id": "vPflPk_mP9_0",
        "colab_type": "code",
        "colab": {}
      },
      "cell_type": "code",
      "source": [
        "def remove_hindi_stopwords(text):\n",
        "  stop_word = []\n",
        "  with open(\"stopwords_list.txt\") as f:\n",
        "    word = f.readlines()\n",
        "  #   print(word)\n",
        "    for i in word:\n",
        "  #     print(i)\n",
        "      stop_word.append(i.rstrip())\n",
        "    print(stop_word)\n",
        "    \n",
        "    word = [[w for w in s.lower().split() if w not in stop_word]for s in text]\n",
        "    return word"
      ],
      "execution_count": 0,
      "outputs": []
    },
    {
      "metadata": {
        "id": "Mft7JF62xPNE",
        "colab_type": "text"
      },
      "cell_type": "markdown",
      "source": [
        "##Removing english stopwords"
      ]
    },
    {
      "metadata": {
        "id": "eGqFzHyVdZr-",
        "colab_type": "code",
        "colab": {}
      },
      "cell_type": "code",
      "source": [
        "eng_words = remove_english_stopword(new_english[\"text\"])"
      ],
      "execution_count": 0,
      "outputs": []
    },
    {
      "metadata": {
        "id": "1FYGilhxxWFo",
        "colab_type": "text"
      },
      "cell_type": "markdown",
      "source": [
        "##Removing hinglish stopwords"
      ]
    },
    {
      "metadata": {
        "id": "PBEX2moUS75T",
        "colab_type": "code",
        "colab": {
          "base_uri": "https://localhost:8080/",
          "height": 54
        },
        "outputId": "1f4c27ab-7ba5-4a79-c52b-e392f698ed84"
      },
      "cell_type": "code",
      "source": [
        "hing_words = remove_hindi_stopwords(hinglish[\"text\"])"
      ],
      "execution_count": 13,
      "outputs": [
        {
          "output_type": "stream",
          "text": [
            "['ke', 'ka', 'ek', 'mein', 'ki', 'hai', 'yah', 'aur', 'se', 'hain', 'ko', 'par', 'iss', 'hota', 'jo', 'kar', 'me', 'gaya', 'karne', 'kiya', 'liye', 'apne', 'ne', 'bani', 'nahi', 'toh', 'hi', 'ya', 'avam', 'diya', 'ho', 'iska', 'tha', 'dhvara', 'hua', 'tak', 'saath', 'karna', 'vaale', 'baad', 'liya', 'aap', 'kuchh', 'sakte', 'kisi', 'ye', 'iska', 'sabse', 'ismein', 'the', 'do', 'hone', 'vah', 've', 'karte', 'bahut', 'kaha', 'varg', 'kai', 'karein', 'hoti', 'apni', 'unke', 'thi', 'yadi', 'hui', 'jaa', 'na', 'ise', 'kehte', 'kahte', 'jab', 'hote', 'koi', 'hue', 'va', 'abhi', 'jaise', 'sabhi', 'karta', 'unki', 'tarah', 'uss', 'aadi', 'kul', 'raha', 'iski', 'sakta', 'rahe', 'unka', 'issi', 'rakhein', 'apna', 'pe', 'uske']\n"
          ],
          "name": "stdout"
        }
      ]
    },
    {
      "metadata": {
        "id": "wIPHf2xExbRp",
        "colab_type": "text"
      },
      "cell_type": "markdown",
      "source": [
        "##Creating characters of words and merging both lists together"
      ]
    },
    {
      "metadata": {
        "id": "RdeE8o8eu1Oj",
        "colab_type": "code",
        "colab": {}
      },
      "cell_type": "code",
      "source": [
        "def create_words(hw, ew):\n",
        "  ls = []\n",
        "  ls1 = []\n",
        "\n",
        "  count = 0\n",
        "  for i in hing_words:\n",
        "    for j in i:\n",
        "      ls.append((list(j),1))\n",
        "  ls = ls[:20000]    \n",
        "  print(\"Total hinglish words = \",len(ls)) \n",
        "\n",
        "  for i in eng_words:\n",
        "    for j in i:\n",
        "      ls1.append((list(j),0))\n",
        "  ls1 = ls1[:20000]    \n",
        "#       count += 1   \n",
        "  print(\"Total english words = \",len(ls1))   \n",
        "  \n",
        "  \n",
        "  ls.extend(ls1)\n",
        "  random.shuffle(ls)  \n",
        "  \n",
        "  return ls\n",
        "    \n",
        "    "
      ],
      "execution_count": 0,
      "outputs": []
    },
    {
      "metadata": {
        "id": "lJVtSFBxxpVC",
        "colab_type": "text"
      },
      "cell_type": "markdown",
      "source": [
        "##Total hinglish words = 20,000\n",
        "##Total english words = 20,000"
      ]
    },
    {
      "metadata": {
        "id": "YX4lPlkY_Z8s",
        "colab_type": "code",
        "colab": {
          "base_uri": "https://localhost:8080/",
          "height": 51
        },
        "outputId": "37957e93-8e87-4742-c048-83b1cbd394cd"
      },
      "cell_type": "code",
      "source": [
        "ls = create_words(hing_words, eng_words)"
      ],
      "execution_count": 15,
      "outputs": [
        {
          "output_type": "stream",
          "text": [
            "Total hinglish words =  20000\n",
            "Total english words =  20000\n"
          ],
          "name": "stdout"
        }
      ]
    },
    {
      "metadata": {
        "id": "hszjfqQvx8bS",
        "colab_type": "text"
      },
      "cell_type": "markdown",
      "source": [
        "##Creating a dictionary of alphabets for indexing the characters obtained from words"
      ]
    },
    {
      "metadata": {
        "id": "kBXbOlh-yQ7j",
        "colab_type": "code",
        "colab": {}
      },
      "cell_type": "code",
      "source": [
        "alpha = {\"a\":0,\"b\":1,\"c\":2,\"d\":3,\"e\":4,\"f\":5,\"g\":6,\"h\":7,\"i\":8,\"j\":9,\"k\":10,\"l\":11,\"m\":12,\"n\":13,\"o\":14,\"p\":15,\"q\":16,\"r\":17,\"s\":18,\"t\":19,\"u\":20,\"v\":21,\"w\":22,\"x\":23,\"y\":24,\"z\":25}\n",
        "# alpha"
      ],
      "execution_count": 0,
      "outputs": []
    },
    {
      "metadata": {
        "id": "CphUe32OyEJX",
        "colab_type": "text"
      },
      "cell_type": "markdown",
      "source": [
        "##Seprating words and labels into different lists"
      ]
    },
    {
      "metadata": {
        "id": "UHKx5sAZdI5u",
        "colab_type": "code",
        "colab": {}
      },
      "cell_type": "code",
      "source": [
        "words = [w[0] for w in ls]\n",
        "labels = [w[1] for w in ls]"
      ],
      "execution_count": 0,
      "outputs": []
    },
    {
      "metadata": {
        "id": "FPcuoIzmyKn6",
        "colab_type": "text"
      },
      "cell_type": "markdown",
      "source": [
        "##Getting maximum length of word in the list"
      ]
    },
    {
      "metadata": {
        "id": "Ruq2kKJ4iP63",
        "colab_type": "code",
        "colab": {
          "base_uri": "https://localhost:8080/",
          "height": 34
        },
        "outputId": "4d3e7252-1a13-4299-bc96-8c947acc3699"
      },
      "cell_type": "code",
      "source": [
        "max_length = len(max(words, key = len))\n",
        "max_length"
      ],
      "execution_count": 18,
      "outputs": [
        {
          "output_type": "execute_result",
          "data": {
            "text/plain": [
              "62"
            ]
          },
          "metadata": {
            "tags": []
          },
          "execution_count": 18
        }
      ]
    },
    {
      "metadata": {
        "id": "jMC7GB6TyOpj",
        "colab_type": "text"
      },
      "cell_type": "markdown",
      "source": [
        "##Splitting data into train and validation set where training data is 80% and validation data is 20%"
      ]
    },
    {
      "metadata": {
        "id": "KMkeJ_iSeWUw",
        "colab_type": "code",
        "colab": {}
      },
      "cell_type": "code",
      "source": [
        "train_x, test_x, train_y, test_y = train_test_split(words, labels, shuffle = True, test_size = 0.2)"
      ],
      "execution_count": 0,
      "outputs": []
    },
    {
      "metadata": {
        "id": "XOyrgrIszByJ",
        "colab_type": "text"
      },
      "cell_type": "markdown",
      "source": [
        "##Training data = 32000\n",
        "##Validation data = 8000"
      ]
    },
    {
      "metadata": {
        "id": "EJLiQBU6e5bh",
        "colab_type": "code",
        "colab": {
          "base_uri": "https://localhost:8080/",
          "height": 51
        },
        "outputId": "7238e75a-574b-4d54-ffb8-a54d4676f180"
      },
      "cell_type": "code",
      "source": [
        "print(\"Train data : \", \"train_X = \" ,len(train_x), \"labels = \" , len(train_y))\n",
        "print(\"Test data = \", \"test_X = \" ,len(test_x), \"labels = \" , len(test_y))"
      ],
      "execution_count": 20,
      "outputs": [
        {
          "output_type": "stream",
          "text": [
            "Train data :  train_X =  32000 labels =  32000\n",
            "Test data =  test_X =  8000 labels =  8000\n"
          ],
          "name": "stdout"
        }
      ]
    },
    {
      "metadata": {
        "id": "w2WIJCX-zPQS",
        "colab_type": "text"
      },
      "cell_type": "markdown",
      "source": [
        "##Creating indexing of characters by map it to alphabets"
      ]
    },
    {
      "metadata": {
        "id": "CdtoueKu1JsK",
        "colab_type": "code",
        "colab": {}
      },
      "cell_type": "code",
      "source": [
        "#Function to create indexing of characters in the word\n",
        "\n",
        "def create_indexing(data):\n",
        "  final = []\n",
        "\n",
        "  for i in data:\n",
        "    new = []\n",
        "    for j in i:\n",
        "      new.append(alpha[j])\n",
        "    final.append(new)  \n",
        "\n",
        "  return final  "
      ],
      "execution_count": 0,
      "outputs": []
    },
    {
      "metadata": {
        "id": "aymT70Xvc2WA",
        "colab_type": "code",
        "colab": {}
      },
      "cell_type": "code",
      "source": [
        "final_train = create_indexing(train_x)\n",
        "final_test = create_indexing(test_x)"
      ],
      "execution_count": 0,
      "outputs": []
    },
    {
      "metadata": {
        "id": "lPdXxSOjzbMB",
        "colab_type": "text"
      },
      "cell_type": "markdown",
      "source": [
        "##Insert padding to make them of equal length"
      ]
    },
    {
      "metadata": {
        "id": "9speCDL45zFt",
        "colab_type": "code",
        "colab": {}
      },
      "cell_type": "code",
      "source": [
        "def create_padding(data):\n",
        "  padded_docs = []\n",
        "  for i in data:\n",
        "    p = np.pad(i, (0, (max_length - len(i))), mode = \"constant\", constant_values = 0)\n",
        "    padded_docs.append(p)\n",
        "\n",
        "  return padded_docs"
      ],
      "execution_count": 0,
      "outputs": []
    },
    {
      "metadata": {
        "id": "2w0c9qG-85sW",
        "colab_type": "code",
        "colab": {}
      },
      "cell_type": "code",
      "source": [
        "padded_train_docs = create_padding(final_train)\n",
        "padded_test_docs = create_padding(final_test)"
      ],
      "execution_count": 0,
      "outputs": []
    },
    {
      "metadata": {
        "id": "i9xsrsjPVQlX",
        "colab_type": "code",
        "colab": {
          "base_uri": "https://localhost:8080/",
          "height": 85
        },
        "outputId": "5d43a43e-7376-4f41-eebc-5261e22a5fd4"
      },
      "cell_type": "code",
      "source": [
        "padded_train_docs[0]"
      ],
      "execution_count": 25,
      "outputs": [
        {
          "output_type": "execute_result",
          "data": {
            "text/plain": [
              "array([ 2,  7,  0, 11,  0, 10,  0, 17,  0,  0,  0,  0,  0,  0,  0,  0,  0,\n",
              "        0,  0,  0,  0,  0,  0,  0,  0,  0,  0,  0,  0,  0,  0,  0,  0,  0,\n",
              "        0,  0,  0,  0,  0,  0,  0,  0,  0,  0,  0,  0,  0,  0,  0,  0,  0,\n",
              "        0,  0,  0,  0,  0,  0,  0,  0,  0,  0,  0])"
            ]
          },
          "metadata": {
            "tags": []
          },
          "execution_count": 25
        }
      ]
    },
    {
      "metadata": {
        "id": "W59VMR95pE_0",
        "colab_type": "code",
        "colab": {
          "base_uri": "https://localhost:8080/",
          "height": 51
        },
        "outputId": "f5dd034e-e08b-452d-cc30-0ea37ae8888c"
      },
      "cell_type": "code",
      "source": [
        "print(\"Length of padded train data = \",len(padded_train_docs))\n",
        "print(\"Length of padded test data = \",len(padded_test_docs))"
      ],
      "execution_count": 26,
      "outputs": [
        {
          "output_type": "stream",
          "text": [
            "Length of padded train data =  32000\n",
            "Length of padded test data =  8000\n"
          ],
          "name": "stdout"
        }
      ]
    },
    {
      "metadata": {
        "id": "26OstZil9AX8",
        "colab_type": "code",
        "colab": {
          "base_uri": "https://localhost:8080/",
          "height": 34
        },
        "outputId": "1d531931-9360-481e-d2cf-9bc2f0a85698"
      },
      "cell_type": "code",
      "source": [
        "padded_train_docs[0].shape"
      ],
      "execution_count": 27,
      "outputs": [
        {
          "output_type": "execute_result",
          "data": {
            "text/plain": [
              "(62,)"
            ]
          },
          "metadata": {
            "tags": []
          },
          "execution_count": 27
        }
      ]
    },
    {
      "metadata": {
        "id": "QHeI1v1mzpD_",
        "colab_type": "text"
      },
      "cell_type": "markdown",
      "source": [
        "##Applying one-hot encoding to padded docs"
      ]
    },
    {
      "metadata": {
        "id": "b8YNXwh7A_qC",
        "colab_type": "code",
        "colab": {}
      },
      "cell_type": "code",
      "source": [
        "def create_encoded_docs(pad_docs, num_of_samples):\n",
        "  num_alpha = 26\n",
        "\n",
        "  encoded_docs = np.zeros((num_of_samples, max_length, num_alpha))\n",
        "  print(encoded_docs.shape)\n",
        "\n",
        "  for nu,i in enumerate(pad_docs):\n",
        "    for n, j in enumerate(i):\n",
        "      encoded_docs[nu][n] = to_categorical(j, num_classes = 26)\n",
        "\n",
        "  return encoded_docs"
      ],
      "execution_count": 0,
      "outputs": []
    },
    {
      "metadata": {
        "id": "fRxkf-PWXDXY",
        "colab_type": "code",
        "colab": {
          "base_uri": "https://localhost:8080/",
          "height": 51
        },
        "outputId": "bcd79fc5-1e57-49ac-88ad-6ff5ad1e5194"
      },
      "cell_type": "code",
      "source": [
        "encoded_train_docs = create_encoded_docs(padded_train_docs, len(padded_train_docs))\n",
        "encoded_test_docs = create_encoded_docs(padded_test_docs, len(padded_test_docs))"
      ],
      "execution_count": 29,
      "outputs": [
        {
          "output_type": "stream",
          "text": [
            "(32000, 62, 26)\n",
            "(8000, 62, 26)\n"
          ],
          "name": "stdout"
        }
      ]
    },
    {
      "metadata": {
        "id": "CZXdwL8Oz3zZ",
        "colab_type": "text"
      },
      "cell_type": "markdown",
      "source": [
        "##Converting labels into arrays"
      ]
    },
    {
      "metadata": {
        "id": "qwAPmmPl83G0",
        "colab_type": "code",
        "colab": {}
      },
      "cell_type": "code",
      "source": [
        "#Converting labels list into arrays\n",
        "train_y = np.asarray(train_y)\n",
        "test_y = np.asarray(test_y)"
      ],
      "execution_count": 0,
      "outputs": []
    },
    {
      "metadata": {
        "id": "RQyYkGQ3lC9w",
        "colab_type": "code",
        "colab": {
          "base_uri": "https://localhost:8080/",
          "height": 34
        },
        "outputId": "8c15fec3-a807-47a5-de21-61c7246bcd79"
      },
      "cell_type": "code",
      "source": [
        "print(\"Train Labels shape = \",train_y.shape, \"Test labels shape = \",test_y.shape)"
      ],
      "execution_count": 31,
      "outputs": [
        {
          "output_type": "stream",
          "text": [
            "Train Labels shape =  (32000,) Test labels shape =  (8000,)\n"
          ],
          "name": "stdout"
        }
      ]
    },
    {
      "metadata": {
        "id": "Rd1icvSNz8iB",
        "colab_type": "text"
      },
      "cell_type": "markdown",
      "source": [
        "##Creating model with one LSTM layer and two Dense layers using RMSprop optimizer"
      ]
    },
    {
      "metadata": {
        "id": "7BSIUkLd4XdE",
        "colab_type": "code",
        "colab": {
          "base_uri": "https://localhost:8080/",
          "height": 272
        },
        "outputId": "84c031fa-c724-436f-c75d-6119f888e0d8"
      },
      "cell_type": "code",
      "source": [
        "#Creating Model\n",
        "\n",
        "clf = Sequential()\n",
        "# clf.add(Embedding(40000, 128, input_length = max_length))\n",
        "clf.add(Bidirectional(LSTM(40) , input_shape = (max_length, 26)))\n",
        "clf.add(Dense(30,activation = \"relu\"))\n",
        "clf.add(Dense(20,activation = \"relu\"))\n",
        "# clf.add(Dropout(0.3))\n",
        "clf.add(Dense(1,activation = \"sigmoid\"))\n",
        "\n",
        "optimizer = Adam()\n",
        "clf.compile(optimizer = optimizer, loss = \"binary_crossentropy\", metrics = [\"accuracy\"])\n",
        "clf.summary()\n"
      ],
      "execution_count": 32,
      "outputs": [
        {
          "output_type": "stream",
          "text": [
            "_________________________________________________________________\n",
            "Layer (type)                 Output Shape              Param #   \n",
            "=================================================================\n",
            "bidirectional_1 (Bidirection (None, 80)                21440     \n",
            "_________________________________________________________________\n",
            "dense_1 (Dense)              (None, 30)                2430      \n",
            "_________________________________________________________________\n",
            "dense_2 (Dense)              (None, 20)                620       \n",
            "_________________________________________________________________\n",
            "dense_3 (Dense)              (None, 1)                 21        \n",
            "=================================================================\n",
            "Total params: 24,511\n",
            "Trainable params: 24,511\n",
            "Non-trainable params: 0\n",
            "_________________________________________________________________\n"
          ],
          "name": "stdout"
        }
      ]
    },
    {
      "metadata": {
        "id": "mBDdK_6eOjbY",
        "colab_type": "code",
        "colab": {}
      },
      "cell_type": "code",
      "source": [
        "# define the checkpoint\n",
        "filepath=\"./weights-improvement-{epoch:02d}-{loss:.4f}.hdf5\"\n",
        "checkpoint = ModelCheckpoint(filepath, monitor='loss', verbose=1, save_best_only=True, mode='min')\n",
        "callbacks_list = [checkpoint]"
      ],
      "execution_count": 0,
      "outputs": []
    },
    {
      "metadata": {
        "id": "ER1mKaW_0M-l",
        "colab_type": "text"
      },
      "cell_type": "markdown",
      "source": [
        "##Fitting the model"
      ]
    },
    {
      "metadata": {
        "id": "dFK0frzh-Uir",
        "colab_type": "code",
        "colab": {
          "base_uri": "https://localhost:8080/",
          "height": 734
        },
        "outputId": "02e0e39b-ba64-4dec-f516-d08a640fa2fc"
      },
      "cell_type": "code",
      "source": [
        "history = clf.fit(encoded_train_docs, train_y, epochs = 20, batch_size = 64, validation_data = (encoded_test_docs, test_y))"
      ],
      "execution_count": 34,
      "outputs": [
        {
          "output_type": "stream",
          "text": [
            "Train on 32000 samples, validate on 8000 samples\n",
            "Epoch 1/20\n",
            "32000/32000 [==============================] - 149s 5ms/step - loss: 0.4423 - acc: 0.7955 - val_loss: 0.3405 - val_acc: 0.8566\n",
            "Epoch 2/20\n",
            "32000/32000 [==============================] - 146s 5ms/step - loss: 0.3238 - acc: 0.8641 - val_loss: 0.3012 - val_acc: 0.8772\n",
            "Epoch 3/20\n",
            "32000/32000 [==============================] - 147s 5ms/step - loss: 0.2864 - acc: 0.8836 - val_loss: 0.2633 - val_acc: 0.8939\n",
            "Epoch 4/20\n",
            "32000/32000 [==============================] - 147s 5ms/step - loss: 0.2538 - acc: 0.9025 - val_loss: 0.2302 - val_acc: 0.9125\n",
            "Epoch 5/20\n",
            "32000/32000 [==============================] - 145s 5ms/step - loss: 0.2256 - acc: 0.9168 - val_loss: 0.2138 - val_acc: 0.9177\n",
            "Epoch 6/20\n",
            "32000/32000 [==============================] - 147s 5ms/step - loss: 0.2050 - acc: 0.9262 - val_loss: 0.1953 - val_acc: 0.9276\n",
            "Epoch 7/20\n",
            "32000/32000 [==============================] - 147s 5ms/step - loss: 0.1902 - acc: 0.9314 - val_loss: 0.1881 - val_acc: 0.9305\n",
            "Epoch 8/20\n",
            "32000/32000 [==============================] - 145s 5ms/step - loss: 0.1764 - acc: 0.9372 - val_loss: 0.1746 - val_acc: 0.9383\n",
            "Epoch 9/20\n",
            "32000/32000 [==============================] - 145s 5ms/step - loss: 0.1627 - acc: 0.9430 - val_loss: 0.1667 - val_acc: 0.9396\n",
            "Epoch 10/20\n",
            "32000/32000 [==============================] - 146s 5ms/step - loss: 0.1543 - acc: 0.9466 - val_loss: 0.1568 - val_acc: 0.9435\n",
            "Epoch 11/20\n",
            "32000/32000 [==============================] - 146s 5ms/step - loss: 0.1453 - acc: 0.9497 - val_loss: 0.1547 - val_acc: 0.9465\n",
            "Epoch 12/20\n",
            "32000/32000 [==============================] - 147s 5ms/step - loss: 0.1373 - acc: 0.9526 - val_loss: 0.1393 - val_acc: 0.9511\n",
            "Epoch 13/20\n",
            "32000/32000 [==============================] - 146s 5ms/step - loss: 0.1311 - acc: 0.9547 - val_loss: 0.1465 - val_acc: 0.9465\n",
            "Epoch 14/20\n",
            "32000/32000 [==============================] - 146s 5ms/step - loss: 0.1233 - acc: 0.9570 - val_loss: 0.1381 - val_acc: 0.9503\n",
            "Epoch 15/20\n",
            "32000/32000 [==============================] - 145s 5ms/step - loss: 0.1157 - acc: 0.9609 - val_loss: 0.1263 - val_acc: 0.9554\n",
            "Epoch 16/20\n",
            "32000/32000 [==============================] - 145s 5ms/step - loss: 0.1100 - acc: 0.9626 - val_loss: 0.1271 - val_acc: 0.9544\n",
            "Epoch 17/20\n",
            "32000/32000 [==============================] - 147s 5ms/step - loss: 0.1049 - acc: 0.9637 - val_loss: 0.1259 - val_acc: 0.9539\n",
            "Epoch 18/20\n",
            "32000/32000 [==============================] - 146s 5ms/step - loss: 0.0995 - acc: 0.9657 - val_loss: 0.1246 - val_acc: 0.9554\n",
            "Epoch 19/20\n",
            "32000/32000 [==============================] - 146s 5ms/step - loss: 0.0947 - acc: 0.9686 - val_loss: 0.1158 - val_acc: 0.9604\n",
            "Epoch 20/20\n",
            "32000/32000 [==============================] - 146s 5ms/step - loss: 0.0892 - acc: 0.9697 - val_loss: 0.1214 - val_acc: 0.9593\n"
          ],
          "name": "stdout"
        }
      ]
    },
    {
      "metadata": {
        "id": "5fIwk5_l0Qc9",
        "colab_type": "text"
      },
      "cell_type": "markdown",
      "source": [
        "##Save the model "
      ]
    },
    {
      "metadata": {
        "id": "It0GT0hU-7PW",
        "colab_type": "code",
        "colab": {}
      },
      "cell_type": "code",
      "source": [
        "clf.save(\"./new_lstm_best.h5\")"
      ],
      "execution_count": 0,
      "outputs": []
    },
    {
      "metadata": {
        "id": "_OyjNUUE0Txj",
        "colab_type": "text"
      },
      "cell_type": "markdown",
      "source": [
        "##Load model"
      ]
    },
    {
      "metadata": {
        "id": "bnODHYdfrPHO",
        "colab_type": "code",
        "colab": {}
      },
      "cell_type": "code",
      "source": [
        "model = load_model(\"./new_lstm_best.h5\")"
      ],
      "execution_count": 0,
      "outputs": []
    },
    {
      "metadata": {
        "id": "zDEIFznx0ViF",
        "colab_type": "text"
      },
      "cell_type": "markdown",
      "source": [
        "##Function for making predictions"
      ]
    },
    {
      "metadata": {
        "id": "z1p73V00X1pd",
        "colab_type": "code",
        "colab": {}
      },
      "cell_type": "code",
      "source": [
        "def predict(test_str):\n",
        "  test_words = word_tokenize(test_str)\n",
        "  test_char = []\n",
        "  for i in test_words:\n",
        "    test_char.append(list(i.lower()))\n",
        "    \n",
        "  test_index = create_indexing(test_char)\n",
        "#   print(test_index)\n",
        "  \n",
        "  test_pad = create_padding(test_index)\n",
        "  \n",
        "  test_encode = create_encoded_docs(test_pad, len(test_pad))\n",
        "  \n",
        "  res = model.predict_classes(test_encode)\n",
        "  \n",
        "  return (res)\n",
        "  "
      ],
      "execution_count": 0,
      "outputs": []
    },
    {
      "metadata": {
        "id": "y2qZemQI0YaD",
        "colab_type": "text"
      },
      "cell_type": "markdown",
      "source": [
        "##Testing our model using a sentence \n",
        "Getting results word wise"
      ]
    },
    {
      "metadata": {
        "id": "Hk9Sdw57aFxt",
        "colab_type": "code",
        "colab": {
          "base_uri": "https://localhost:8080/",
          "height": 153
        },
        "outputId": "ee1d4543-e9b6-40b5-c952-6e59411569b8"
      },
      "cell_type": "code",
      "source": [
        "result = predict(\"kya tum ye door please khol doge\")\n",
        "print(result)"
      ],
      "execution_count": 45,
      "outputs": [
        {
          "output_type": "stream",
          "text": [
            "(7, 62, 26)\n",
            "[[1]\n",
            " [1]\n",
            " [0]\n",
            " [0]\n",
            " [0]\n",
            " [1]\n",
            " [1]]\n"
          ],
          "name": "stdout"
        }
      ]
    },
    {
      "metadata": {
        "id": "U8sgzGrJdpnG",
        "colab_type": "code",
        "colab": {
          "base_uri": "https://localhost:8080/",
          "height": 34
        },
        "outputId": "08876507-91b3-43e2-fab0-f071cfd53ff5"
      },
      "cell_type": "code",
      "source": [
        "history.history.keys()"
      ],
      "execution_count": 41,
      "outputs": [
        {
          "output_type": "execute_result",
          "data": {
            "text/plain": [
              "dict_keys(['val_loss', 'val_acc', 'loss', 'acc'])"
            ]
          },
          "metadata": {
            "tags": []
          },
          "execution_count": 41
        }
      ]
    },
    {
      "metadata": {
        "id": "PQ2y-7JH0rw9",
        "colab_type": "text"
      },
      "cell_type": "markdown",
      "source": [
        "##Comparison training accuracy and validation accuracy"
      ]
    },
    {
      "metadata": {
        "id": "aNOHkAyPmokt",
        "colab_type": "code",
        "colab": {
          "base_uri": "https://localhost:8080/",
          "height": 294
        },
        "outputId": "a053f448-52c0-4634-9398-0dbeea2f75b2"
      },
      "cell_type": "code",
      "source": [
        "val_loss = history.history[\"val_loss\"]\n",
        "val_acc = history.history[\"val_acc\"]\n",
        "loss = history.history[\"loss\"]\n",
        "acc = history.history[\"acc\"]\n",
        "\n",
        "epochs = [i for i in range(len(loss))]\n",
        "\n",
        "plt.plot(val_acc)\n",
        "plt.plot(acc)\n",
        "plt.title(\"model accuracy\")\n",
        "plt.xlabel(\"accuracy\")\n",
        "plt.ylabel(\"epochs\")\n",
        "plt.legend([\"val_acc\",\"acc\"])\n",
        "plt.show()"
      ],
      "execution_count": 42,
      "outputs": [
        {
          "output_type": "display_data",
          "data": {
            "image/png": "[encoded data removed]",
            "text/plain": [
              "<matplotlib.figure.Figure at 0x7fe9679d6ac8>"
            ]
          },
          "metadata": {
            "tags": []
          }
        }
      ]
    },
    {
      "metadata": {
        "id": "Up2_Umsd04Fu",
        "colab_type": "text"
      },
      "cell_type": "markdown",
      "source": [
        "##Comparing training loss and validation loss"
      ]
    },
    {
      "metadata": {
        "id": "YH8mVw5bn11E",
        "colab_type": "code",
        "colab": {
          "base_uri": "https://localhost:8080/",
          "height": 294
        },
        "outputId": "0759938a-8b91-42d6-bf25-9d7d1e2cfc1d"
      },
      "cell_type": "code",
      "source": [
        "plt.plot(val_loss)\n",
        "plt.plot(loss)\n",
        "plt.title(\"model loss\")\n",
        "plt.xlabel(\"loss\")\n",
        "plt.ylabel(\"epochs\")\n",
        "plt.legend([\"val_loss\",\"loss\"])\n",
        "plt.show()"
      ],
      "execution_count": 43,
      "outputs": [
        {
          "output_type": "display_data",
          "data": {
            "image/png": "[encoded data removed]",
            "text/plain": [
              "<matplotlib.figure.Figure at 0x7fe967850b70>"
            ]
          },
          "metadata": {
            "tags": []
          }
        }
      ]
    },
    {
      "metadata": {
        "id": "FVYrq8NJolmd",
        "colab_type": "code",
        "colab": {}
      },
      "cell_type": "code",
      "source": [
        ""
      ],
      "execution_count": 0,
      "outputs": []
    }
  ]
}
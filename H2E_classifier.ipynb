{
  "nbformat": 4,
  "nbformat_minor": 0,
  "metadata": {
    "colab": {
      "name": "H2E classifier.ipynb",
      "version": "0.3.2",
      "provenance": [],
      "collapsed_sections": [],
      "include_colab_link": true
    },
    "kernelspec": {
      "name": "python3",
      "display_name": "Python 3"
    },
    "accelerator": "GPU"
  },
  "cells": [
    {
      "cell_type": "markdown",
      "metadata": {
        "id": "view-in-github",
        "colab_type": "text"
      },
      "source": [
        "[View in Colaboratory](https://colab.research.google.com/github/Dark-Sied/Word_embeddings_experiments/blob/master/H2E_classifier.ipynb)"
      ]
    },
    {
      "metadata": {
        "id": "hQKF362KwK9M",
        "colab_type": "code",
        "colab": {
          "resources": {
            "http://localhost:8080/nbextensions/google.colab/files.js": {
              "data": "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",
              "ok": true,
              "headers": [
                [
                  "content-type",
                  "application/javascript"
                ]
              ],
              "status": 200,
              "status_text": "OK"
            }
          },
          "base_uri": "https://localhost:8080/",
          "height": 118
        },
        "outputId": "0a681d98-cb73-462e-bb1c-9574803bc9b6"
      },
      "cell_type": "code",
      "source": [
        "from google.colab import files\n",
        "files.upload()\n"
      ],
      "execution_count": 4,
      "outputs": [
        {
          "output_type": "display_data",
          "data": {
            "text/html": [
              "\n",
              "     <input type=\"file\" id=\"files-c694c34f-0e6a-45be-aff0-16f900a683f8\" name=\"files[]\" multiple disabled />\n",
              "     <output id=\"result-c694c34f-0e6a-45be-aff0-16f900a683f8\">\n",
              "      Upload widget is only available when the cell has been executed in the\n",
              "      current browser session. Please rerun this cell to enable.\n",
              "      </output>\n",
              "      <script src=\"/nbextensions/google.colab/files.js\"></script> "
            ],
            "text/plain": [
              "<IPython.core.display.HTML object>"
            ]
          },
          "metadata": {
            "tags": []
          }
        },
        {
          "output_type": "stream",
          "text": [
            "Saving stopwords_list.txt to stopwords_list.txt\n"
          ],
          "name": "stdout"
        },
        {
          "output_type": "execute_result",
          "data": {
            "text/plain": [
              "{'stopwords_list.txt': b'ke\\nka\\nek\\nmein\\nki\\nhai\\nyah\\naur\\nse\\nhain\\nko\\npar\\niss\\nhota\\njo\\nkar\\nme\\ngaya\\nkarne\\nkiya\\nliye\\napne\\nne\\nbani\\nnahi\\ntoh\\nhi\\nya\\navam\\ndiya\\nho\\niska\\ntha\\ndhvara\\nhua\\ntak\\nsaath\\nkarna\\nvaale\\nbaad\\nliya\\naap\\nkuchh\\nsakte\\nkisi\\nye\\niska\\nsabse\\nismein\\nthe\\ndo\\nhone\\nvah\\nve\\nkarte\\nbahut\\nkaha\\nvarg\\nkai\\nkarein\\nhoti\\napni\\nunke\\nthi\\nyadi\\nhui\\njaa\\nna\\nise\\nkehte\\nkahte\\njab\\nhote\\nkoi\\nhue\\nva\\nabhi\\njaise\\nsabhi\\nkarta\\nunki\\ntarah\\nuss\\naadi\\nkul\\nraha\\niski\\nsakta\\nrahe\\nunka\\nissi\\nrakhein\\napna\\npe\\nuske\\n'}"
            ]
          },
          "metadata": {
            "tags": []
          },
          "execution_count": 4
        }
      ]
    },
    {
      "metadata": {
        "id": "0IQSkTf7F6kP",
        "colab_type": "code",
        "colab": {
          "base_uri": "https://localhost:8080/",
          "height": 52
        },
        "outputId": "018d094e-a237-4e7b-e705-e540e987ab57"
      },
      "cell_type": "code",
      "source": [
        "!ls"
      ],
      "execution_count": 86,
      "outputs": [
        {
          "output_type": "stream",
          "text": [
            "english_text.csv   my_first_model.h5  stopwords_list.txt\r\n",
            "hinglish_text.csv  sample_data\r\n"
          ],
          "name": "stdout"
        }
      ]
    },
    {
      "metadata": {
        "id": "YTMH9s0LOVfE",
        "colab_type": "code",
        "colab": {}
      },
      "cell_type": "code",
      "source": [
        "import pandas as pd\n",
        "import numpy as np\n",
        "from nltk.corpus import stopwords\n",
        "from nltk.tokenize import sent_tokenize, word_tokenize\n",
        "from keras.preprocessing.text import Tokenizer\n",
        "from keras.utils import to_categorical\n",
        "import random\n",
        "import nltk\n",
        "from sklearn.utils import shuffle\n",
        "from sklearn.model_selection import train_test_split\n",
        "from keras.models import load_model\n",
        "\n",
        "\n",
        "from keras.models import Sequential\n",
        "from keras.layers import Dense, LSTM\n",
        "from keras.layers import Flatten\n",
        "from keras.layers.embeddings import Embedding"
      ],
      "execution_count": 0,
      "outputs": []
    },
    {
      "metadata": {
        "id": "M6jg7ufZ0lcD",
        "colab_type": "code",
        "colab": {
          "base_uri": "https://localhost:8080/",
          "height": 104
        },
        "outputId": "5a8b30bf-ba10-4d09-e50a-87655061d288"
      },
      "cell_type": "code",
      "source": [
        "nltk.download(\"stopwords\")\n",
        "nltk.download(\"punkt\")"
      ],
      "execution_count": 88,
      "outputs": [
        {
          "output_type": "stream",
          "text": [
            "[nltk_data] Downloading package stopwords to /root/nltk_data...\n",
            "[nltk_data]   Package stopwords is already up-to-date!\n",
            "[nltk_data] Downloading package punkt to /root/nltk_data...\n",
            "[nltk_data]   Package punkt is already up-to-date!\n"
          ],
          "name": "stdout"
        },
        {
          "output_type": "execute_result",
          "data": {
            "text/plain": [
              "True"
            ]
          },
          "metadata": {
            "tags": []
          },
          "execution_count": 88
        }
      ]
    },
    {
      "metadata": {
        "id": "4bvj5aJede-7",
        "colab_type": "code",
        "colab": {
          "base_uri": "https://localhost:8080/",
          "height": 206
        },
        "outputId": "424352e6-6949-4a54-a47e-7dd26f88cb89"
      },
      "cell_type": "code",
      "source": [
        "english = pd.read_csv(\"english_text.csv\")\n",
        "new_english = english[:300]\n",
        "new_english.head()\n"
      ],
      "execution_count": 89,
      "outputs": [
        {
          "output_type": "execute_result",
          "data": {
            "text/html": [
              "<div>\n",
              "<style scoped>\n",
              "    .dataframe tbody tr th:only-of-type {\n",
              "        vertical-align: middle;\n",
              "    }\n",
              "\n",
              "    .dataframe tbody tr th {\n",
              "        vertical-align: top;\n",
              "    }\n",
              "\n",
              "    .dataframe thead th {\n",
              "        text-align: right;\n",
              "    }\n",
              "</style>\n",
              "<table border=\"1\" class=\"dataframe\">\n",
              "  <thead>\n",
              "    <tr style=\"text-align: right;\">\n",
              "      <th></th>\n",
              "      <th>Unnamed: 0</th>\n",
              "      <th>text</th>\n",
              "    </tr>\n",
              "  </thead>\n",
              "  <tbody>\n",
              "    <tr>\n",
              "      <th>0</th>\n",
              "      <td>0</td>\n",
              "      <td>Harry Potter and the Sorcerers Stone</td>\n",
              "    </tr>\n",
              "    <tr>\n",
              "      <th>1</th>\n",
              "      <td>1</td>\n",
              "      <td>CHAPTER ONE</td>\n",
              "    </tr>\n",
              "    <tr>\n",
              "      <th>2</th>\n",
              "      <td>2</td>\n",
              "      <td>THE BOY WHO LIVED</td>\n",
              "    </tr>\n",
              "    <tr>\n",
              "      <th>3</th>\n",
              "      <td>3</td>\n",
              "      <td>Mr and Mrs Dursley of number four Privet Drive...</td>\n",
              "    </tr>\n",
              "    <tr>\n",
              "      <th>4</th>\n",
              "      <td>4</td>\n",
              "      <td>Mr Dursley was the director of a firm called G...</td>\n",
              "    </tr>\n",
              "  </tbody>\n",
              "</table>\n",
              "</div>"
            ],
            "text/plain": [
              "   Unnamed: 0                                               text\n",
              "0           0               Harry Potter and the Sorcerers Stone\n",
              "1           1                                        CHAPTER ONE\n",
              "2           2                                  THE BOY WHO LIVED\n",
              "3           3  Mr and Mrs Dursley of number four Privet Drive...\n",
              "4           4  Mr Dursley was the director of a firm called G..."
            ]
          },
          "metadata": {
            "tags": []
          },
          "execution_count": 89
        }
      ]
    },
    {
      "metadata": {
        "id": "08-dJsq_Pss8",
        "colab_type": "code",
        "colab": {
          "base_uri": "https://localhost:8080/",
          "height": 206
        },
        "outputId": "b25afb64-c90a-46ef-ef07-ee3230265df6"
      },
      "cell_type": "code",
      "source": [
        "hinglish = pd.read_csv(\"hinglish_text.csv\")\n",
        "hinglish.head()\n"
      ],
      "execution_count": 90,
      "outputs": [
        {
          "output_type": "execute_result",
          "data": {
            "text/html": [
              "<div>\n",
              "<style scoped>\n",
              "    .dataframe tbody tr th:only-of-type {\n",
              "        vertical-align: middle;\n",
              "    }\n",
              "\n",
              "    .dataframe tbody tr th {\n",
              "        vertical-align: top;\n",
              "    }\n",
              "\n",
              "    .dataframe thead th {\n",
              "        text-align: right;\n",
              "    }\n",
              "</style>\n",
              "<table border=\"1\" class=\"dataframe\">\n",
              "  <thead>\n",
              "    <tr style=\"text-align: right;\">\n",
              "      <th></th>\n",
              "      <th>Unnamed: 0</th>\n",
              "      <th>text</th>\n",
              "    </tr>\n",
              "  </thead>\n",
              "  <tbody>\n",
              "    <tr>\n",
              "      <th>0</th>\n",
              "      <td>0</td>\n",
              "      <td>ek din mujhe yunivarsal kampani ke karl laeeml...</td>\n",
              "    </tr>\n",
              "    <tr>\n",
              "      <th>1</th>\n",
              "      <td>1</td>\n",
              "      <td>jess robins nam ke ek yuva jo aisene kampani k...</td>\n",
              "    </tr>\n",
              "    <tr>\n",
              "      <th>2</th>\n",
              "      <td>2</td>\n",
              "      <td>us rat mainne robins ko dinar par aamantrit ki...</td>\n",
              "    </tr>\n",
              "    <tr>\n",
              "      <th>3</th>\n",
              "      <td>3</td>\n",
              "      <td>main sataven aasaman par tha prastav itana sha...</td>\n",
              "    </tr>\n",
              "    <tr>\n",
              "      <th>4</th>\n",
              "      <td>4</td>\n",
              "      <td>halanki mere shak ne sir uthana shuroo kar diy...</td>\n",
              "    </tr>\n",
              "  </tbody>\n",
              "</table>\n",
              "</div>"
            ],
            "text/plain": [
              "   Unnamed: 0                                               text\n",
              "0           0  ek din mujhe yunivarsal kampani ke karl laeeml...\n",
              "1           1  jess robins nam ke ek yuva jo aisene kampani k...\n",
              "2           2  us rat mainne robins ko dinar par aamantrit ki...\n",
              "3           3  main sataven aasaman par tha prastav itana sha...\n",
              "4           4  halanki mere shak ne sir uthana shuroo kar diy..."
            ]
          },
          "metadata": {
            "tags": []
          },
          "execution_count": 90
        }
      ]
    },
    {
      "metadata": {
        "id": "yoraRwxOeZJ3",
        "colab_type": "code",
        "colab": {
          "base_uri": "https://localhost:8080/",
          "height": 52
        },
        "outputId": "5b8fb0b3-9d36-461f-d246-256a2af0de21"
      },
      "cell_type": "code",
      "source": [
        "print(\"Length of english data = \", len(new_english))\n",
        "print(\"Length of hinglish data = \", len(hinglish))"
      ],
      "execution_count": 91,
      "outputs": [
        {
          "output_type": "stream",
          "text": [
            "Length of english data =  300\n",
            "Length of hinglish data =  4470\n"
          ],
          "name": "stdout"
        }
      ]
    },
    {
      "metadata": {
        "id": "r5C7qXjEc7ZC",
        "colab_type": "code",
        "colab": {}
      },
      "cell_type": "code",
      "source": [
        "def remove_english_stopword(text):\n",
        "  stop_words = set(stopwords.words(\"english\"))\n",
        "  words = [[w for w in s.lower().split() if w not in stop_words]for s in text]\n",
        "  return words "
      ],
      "execution_count": 0,
      "outputs": []
    },
    {
      "metadata": {
        "id": "vPflPk_mP9_0",
        "colab_type": "code",
        "colab": {}
      },
      "cell_type": "code",
      "source": [
        "def remove_hindi_stopwords(text):\n",
        "  stop_word = []\n",
        "  with open(\"stopwords_list.txt\") as f:\n",
        "    word = f.readlines()\n",
        "  #   print(word)\n",
        "    for i in word:\n",
        "  #     print(i)\n",
        "      stop_word.append(i.rstrip())\n",
        "    print(stop_word)\n",
        "    \n",
        "    word = [[w for w in s.lower().split() if w not in stop_word]for s in text]\n",
        "    return word"
      ],
      "execution_count": 0,
      "outputs": []
    },
    {
      "metadata": {
        "id": "eGqFzHyVdZr-",
        "colab_type": "code",
        "colab": {}
      },
      "cell_type": "code",
      "source": [
        "eng_words = remove_english_stopword(new_english[\"text\"])"
      ],
      "execution_count": 0,
      "outputs": []
    },
    {
      "metadata": {
        "id": "zL1Z2CYJgB0I",
        "colab_type": "code",
        "colab": {
          "base_uri": "https://localhost:8080/",
          "height": 54
        },
        "outputId": "c59f1b62-9474-4e21-eaa8-278b7a6b3793"
      },
      "cell_type": "code",
      "source": [
        "\n",
        "print(eng_words)"
      ],
      "execution_count": 95,
      "outputs": [
        {
          "output_type": "stream",
          "text": [
            "[['harry', 'potter', 'sorcerers', 'stone'], ['chapter', 'one'], ['boy', 'lived'], ['mr', 'mrs', 'dursley', 'number', 'four', 'privet', 'drive', 'proud', 'say', 'perfectly', 'normal', 'thank', 'much', 'last', 'people', 'youd', 'expect', 'involved', 'anything', 'strange', 'mysterious', 'didnt', 'hold', 'nonsense'], ['mr', 'dursley', 'director', 'firm', 'called', 'grunnings', 'made', 'drills', 'big', 'beefy', 'man', 'hardly', 'neck', 'although', 'large', 'mustache', 'mrs', 'dursley', 'thin', 'blonde', 'nearly', 'twice', 'usual', 'amount', 'neck', 'came', 'useful', 'spent', 'much', 'time', 'craning', 'garden', 'fences', 'spying', 'neighbors', 'dursleys', 'small', 'son', 'called', 'dudley', 'opinion', 'finer', 'boy', 'anywhere'], ['dursleys', 'everything', 'wanted', 'also', 'secret', 'greatest', 'fear', 'somebody', 'would', 'discover', 'didnt', 'think', 'could', 'bear', 'anyone', 'found', 'potters', 'mrs', 'potter', 'mrs', 'dursleys', 'sister', 'hadnt', 'met', 'several', 'years', 'fact', 'mrs', 'dursley', 'pretended', 'didnt', 'sister', 'sister', 'goodfornothing', 'husband', 'undursleyish', 'possible', 'dursleys', 'shuddered', 'think', 'neighbors', 'would', 'say', 'potters', 'arrived', 'street', 'dursleys', 'knew', 'potters', 'small', 'son', 'never', 'even', 'seen', 'boy', 'another', 'good', 'reason', 'keeping', 'potters', 'away', 'didnt', 'want', 'dudley', 'mixing', 'child', 'like'], ['mr', 'mrs', 'dursley', 'woke', 'dull', 'gray', 'tuesday', 'story', 'starts', 'nothing', 'cloudy', 'sky', 'outside', 'suggest', 'strange', 'mysterious', 'things', 'would', 'soon', 'happening', 'country', 'mr', 'dursley', 'hummed', 'picked', 'boring', 'tie', 'work', 'mrs', 'dursley', 'gossiped', 'away', 'happily', 'wrestled', 'screaming', 'dudley', 'high', 'chair'], ['none', 'noticed', 'large', 'tawny', 'owl', 'flutter', 'past', 'window'], ['half', 'past', 'eight', 'mr', 'dursley', 'picked', 'briefcase', 'pecked', 'mrs', 'dursley', 'cheek', 'tried', 'kiss', 'dudley', 'goodbye', 'missed', 'dudley', 'tantrum', 'throwing', 'cereal', 'walls', 'little', 'tyke', 'chortled', 'mr', 'dursley', 'left', 'house', 'got', 'car', 'backed', 'number', 'fours', 'drive'], ['corner', 'street', 'noticed', 'first', 'sign', 'something', 'peculiar', 'cat', 'reading', 'map', 'second', 'mr', 'dursley', 'didnt', 'realize', 'seen', 'jerked', 'head', 'around', 'look', 'tabby', 'cat', 'standing', 'corner', 'privet', 'drive', 'wasnt', 'map', 'sight', 'could', 'thinking', 'must', 'trick', 'light', 'mr', 'dursley', 'blinked', 'stared', 'cat', 'stared', 'back', 'mr', 'dursley', 'drove', 'around', 'corner', 'road', 'watched', 'cat', 'mirror', 'reading', 'sign', 'said', 'privet', 'drive', 'looking', 'sign', 'cats', 'couldnt', 'read', 'maps', 'signs', 'mr', 'dursley', 'gave', 'little', 'shake', 'put', 'cat', 'mind', 'drove', 'toward', 'town', 'thought', 'nothing', 'except', 'large', 'order', 'drills', 'hoping', 'get', 'day'], ['edge', 'town', 'drills', 'driven', 'mind', 'something', 'else', 'sat', 'usual', 'morning', 'traffic', 'jam', 'couldnt', 'help', 'noticing', 'seemed', 'lot', 'strangely', 'dressed', 'people', 'people', 'cloaks', 'mr', 'dursley', 'couldnt', 'bear', 'people', 'dressed', 'funny', 'clothes', 'getups', 'saw', 'young', 'people', 'supposed', 'stupid', 'new', 'fashion', 'drummed', 'fingers', 'steering', 'wheel', 'eyes', 'fell', 'huddle', 'weirdos', 'standing', 'quite', 'close', 'whispering', 'excitedly', 'together', 'mr', 'dursley', 'enraged', 'see', 'couple', 'werent', 'young', 'man', 'older', 'wearing', 'emeraldgreen', 'cloak', 'nerve', 'struck', 'mr', 'dursley', 'probably', 'silly', 'stunt', 'people', 'obviously', 'collecting', 'something'], ['yes', 'would', 'traffic', 'moved', 'minutes', 'later', 'mr', 'dursley', 'arrived', 'grunnings', 'parking', 'lot', 'mind', 'back', 'drills'], ['mr', 'dursley', 'always', 'sat', 'back', 'window', 'office', 'ninth', 'floor', 'hadnt', 'might', 'found', 'harder', 'concentrate', 'drills', 'morning', 'didnt', 'see', 'owls', 'swoop', 'ing', 'past', 'broad', 'daylight', 'though', 'people', 'street', 'pointed', 'gazed', 'open', 'mouthed', 'owl', 'owl', 'sped', 'overhead', 'never', 'seen', 'owl', 'even', 'nighttime', 'mr', 'dursley', 'however', 'perfectly', 'normal', 'owlfree', 'morning', 'yelled', 'five', 'different', 'people', 'made', 'several', 'important', 'telephone', 'calls', 'shouted', 'bit', 'good', 'mood', 'lunchtime', 'thought', 'hed', 'stretch', 'legs', 'walk', 'across', 'road', 'buy', 'bun', 'bakery'], ['hed', 'forgotten', 'people', 'cloaks', 'passed', 'group', 'next', 'bakers', 'eyed', 'angrily', 'passed', 'didnt', 'know', 'made', 'uneasy', 'bunch', 'whispering', 'excitedly', 'couldnt', 'see', 'single', 'collecting', 'tin', 'way', 'back', 'past', 'clutching', 'large', 'doughnut', 'bag', 'caught', 'words', 'saying'], ['potters', 'thats', 'right', 'thats', 'heard', 'yes', 'son', 'harry'], ['mr', 'dursley', 'stopped', 'dead', 'fear', 'flooded', 'looked', 'back', 'whisperers', 'wanted', 'say', 'something', 'thought', 'better'], ['dashed', 'back', 'across', 'road', 'hurried', 'office', 'snapped', 'secretary', 'disturb', 'seized', 'telephone', 'almost', 'finished', 'dialing', 'home', 'number', 'changed', 'mind', 'put', 'receiver', 'back', 'stroked', 'mustache', 'thinking', 'stupid', 'potter', 'wasnt', 'unusual', 'name', 'sure', 'lots', 'people', 'called', 'potter', 'son', 'called', 'harry', 'come', 'think', 'wasnt', 'even', 'sure', 'nephew', 'called', 'harry', 'hed', 'never', 'even', 'seen', 'boy', 'might', 'harvey', 'harold', 'point', 'worrying', 'mrs', 'dursley', 'always', 'got', 'upset', 'mention', 'sister', 'didnt', 'blame', 'hed', 'sister', 'like', 'people', 'cloaks'], ['found', 'lot', 'harder', 'concentrate', 'drills', 'afternoon', 'left', 'building', 'five', 'oclock', 'still', 'worried', 'walked', 'straight', 'someone', 'outside', 'door'], ['sorry', 'grunted', 'tiny', 'old', 'man', 'stumbled', 'almost', 'fell', 'seconds', 'mr', 'dursley', 'realized', 'man', 'wearing', 'violet', 'cloak', 'didnt', 'seem', 'upset', 'almost', 'knocked', 'ground', 'contrary', 'face', 'split', 'wide', 'smile', 'said', 'squeaky', 'voice', 'made', 'passersby', 'stare', 'dont', 'sorry', 'dear', 'sir', 'nothing', 'could', 'upset', 'today', 'rejoice', 'youknowwho', 'gone', 'last', 'even', 'muggles', 'like', 'celebrating', 'happy', 'happy', 'day'], ['old', 'man', 'hugged', 'mr', 'dursley', 'around', 'middle', 'walked'], ['mr', 'dursley', 'stood', 'rooted', 'spot', 'hugged', 'complete', 'stranger', 'also', 'thought', 'called', 'muggle', 'whatever', 'rattled', 'hurried', 'car', 'set', 'home', 'hoping', 'imagining', 'things', 'never', 'hoped', 'didnt', 'approve', 'imagination'], ['pulled', 'driveway', 'number', 'four', 'first', 'thing', 'saw', 'didnt', 'improve', 'mood', 'tabby', 'cat', 'hed', 'spotted', 'morning', 'sitting', 'garden', 'wall', 'sure', 'one', 'markings', 'around', 'eyes'], ['shoo', 'said', 'mr', 'dursley', 'loudly', 'cat', 'didnt', 'move', 'gave', 'stern', 'look', 'normal', 'cat', 'behavior', 'mr', 'dursley', 'wondered', 'trying', 'pull', 'together', 'let', 'house', 'still', 'determined', 'mention', 'anything', 'wife'], ['mrs', 'dursley', 'nice', 'normal', 'day', 'told', 'dinner', 'mrs', 'next', 'doors', 'problems', 'daughter', 'dudley', 'learned', 'new', 'word', 'wont', 'mr', 'dursley', 'tried', 'act', 'normally', 'dudley', 'put', 'bed', 'went', 'living', 'room', 'time', 'catch', 'last', 'report', 'evening', 'news', 'finally', 'birdwatchers', 'everywhere', 'reported', 'nations', 'owls', 'behaving', 'unusually', 'today', 'although', 'owls', 'normally', 'hunt', 'night', 'hardly', 'ever', 'seen', 'daylight', 'hundreds', 'sightings', 'birds', 'flying', 'every', 'direction', 'since', 'sunrise', 'experts', 'unable', 'explain', 'owls', 'suddenly', 'changed', 'sleeping', 'pattern', 'newscaster', 'allowed', 'grin'], ['mysterious', 'jim', 'mcguffin', 'weather', 'going', 'showers', 'owls', 'tonight', 'jim'], ['well', 'ted', 'said', 'weatherman', 'dont', 'know', 'owls', 'acting', 'oddly', 'today', 'viewers', 'far', 'apart', 'kent', 'yorkshire', 'dundee', 'phoning', 'tell', 'instead', 'rain', 'promised', 'yesterday', 'theyve', 'downpour', 'shooting', 'stars', 'perhaps', 'people', 'celebrating', 'bonfire', 'night', 'early', 'next', 'week', 'folks', 'promise', 'wet', 'night', 'tonight'], ['mr', 'dursley', 'sat', 'frozen', 'armchair', 'shooting', 'stars', 'britain', 'owls', 'flying', 'daylight', 'mysterious', 'people', 'cloaks', 'place', 'whisper', 'whisper', 'potters'], ['mrs', 'dursley', 'came', 'living', 'room', 'carrying', 'two', 'cups', 'tea', 'good', 'hed', 'say', 'something', 'cleared', 'throat', 'nervously', 'er', 'petunia', 'dear', 'havent', 'heard', 'sister', 'lately'], ['expected', 'mrs', 'dursley', 'looked', 'shocked', 'angry', 'normally', 'pretended', 'didnt', 'sister'], ['said', 'sharply'], ['funny', 'stuff', 'news', 'mr', 'dursley', 'mumbled', 'owls', 'shooting', 'stars', 'lot', 'funnylooking', 'people', 'town', 'today'], ['snapped', 'mrs', 'dursley'], ['well', 'thought', 'maybe', 'something', 'know', 'crowd'], ['mrs', 'dursley', 'sipped', 'tea', 'pursed', 'lips', 'mr', 'dursley', 'wondered', 'whether', 'dared', 'tell', 'hed', 'heard', 'name', 'potter', 'decided', 'didnt', 'dare', 'instead', 'said', 'casually', 'could', 'son', 'hed', 'dudleys', 'age', 'wouldnt'], ['suppose', 'said', 'mrs', 'dursley', 'stiffly'], ['whats', 'name', 'howard', 'isnt'], ['harry', 'nasty', 'common', 'name', 'ask'], ['oh', 'yes', 'said', 'mr', 'dursley', 'heart', 'sinking', 'horribly', 'yes', 'quite', 'agree'], ['didnt', 'say', 'another', 'word', 'subject', 'went', 'upstairs', 'bed'], ['mrs', 'dursley', 'bathroom', 'mr', 'dursley', 'crept', 'bedroom', 'window', 'peered', 'front', 'garden', 'cat', 'still'], ['staring', 'privet', 'drive', 'though', 'waiting', 'something'], ['imagining', 'things', 'could', 'anything', 'potters', 'got', 'related', 'pair', 'well', 'didnt', 'think', 'could', 'bear'], ['dursleys', 'got', 'bed', 'mrs', 'dursley', 'fell', 'asleep', 'quickly', 'mr', 'dursley', 'lay', 'awake', 'turning', 'mind', 'last', 'comforting', 'thought', 'fell', 'asleep', 'even', 'potters', 'involved', 'reason', 'come', 'near', 'mrs', 'dursley', 'potters', 'knew', 'well', 'petunia', 'thought', 'kind', 'couldnt', 'see', 'petunia', 'could', 'get', 'mixed', 'anything', 'might', 'going', 'yawned', 'turned', 'couldnt', 'affect'], ['wrong'], ['mr', 'dursley', 'might', 'drifting', 'uneasy', 'sleep', 'cat', 'wall', 'outside', 'showing', 'sign', 'sleepiness', 'sitting', 'still', 'statue', 'eyes', 'fixed', 'unblinkingly', 'far', 'corner', 'privet', 'drive', 'didnt', 'much', 'quiver', 'car', 'door', 'slammed', 'next', 'street', 'two', 'owls', 'swooped', 'overhead', 'fact', 'nearly', 'midnight', 'cat', 'moved'], ['man', 'appeared', 'corner', 'cat', 'watching', 'appeared', 'suddenly', 'silently', 'youd', 'thought', 'hed', 'popped', 'ground', 'cats', 'tail', 'twitched', 'eyes', 'narrowed'], ['nothing', 'like', 'man', 'ever', 'seen', 'privet', 'drive', 'tall', 'thin', 'old', 'judging', 'silver', 'hair', 'beard', 'long', 'enough', 'tuck', 'belt', 'wearing', 'long', 'robes', 'purple', 'cloak', 'swept', 'ground', 'highheeled', 'buckled', 'boots'], ['blue', 'eyes', 'light', 'bright', 'sparkling', 'behind', 'halfmoon', 'spectacles', 'nose', 'long', 'crooked', 'though', 'broken', 'least', 'twice', 'mans', 'name', 'albus', 'dumbledore'], ['albus', 'dumbledore', 'didnt', 'seem', 'realize', 'arrived', 'street', 'everything', 'name', 'boots', 'unwelcome', 'busy', 'rummaging', 'cloak', 'looking', 'something', 'seem', 'realize', 'watched', 'looked', 'suddenly', 'cat', 'still', 'staring', 'end', 'street', 'reason', 'sight', 'cat', 'seemed', 'amuse', 'chuckled', 'muttered', 'known'], ['found', 'looking', 'inside', 'pocket', 'seemed', 'silver', 'cigarette', 'lighter', 'flicked', 'open', 'held', 'air', 'clicked', 'nearest', 'street', 'lamp', 'went', 'little', 'pop', 'clicked', 'next', 'lamp', 'flickered', 'darkness', 'twelve', 'times', 'clicked', 'putouter', 'lights', 'left', 'whole', 'street', 'two', 'tiny', 'pinpricks', 'distance', 'eyes', 'cat', 'watching', 'anyone', 'looked', 'window', 'even', 'beadyeyed', 'mrs', 'dursley', 'wouldnt', 'able', 'see', 'anything', 'happening', 'pavement', 'dumbledore', 'slipped', 'putouter', 'back', 'inside', 'cloak', 'set', 'street', 'toward', 'number', 'four', 'sat', 'wall', 'next', 'cat', 'didnt', 'look', 'moment', 'spoke'], ['fancy', 'seeing', 'professor', 'mcgonagall'], ['turned', 'smile', 'tabby', 'gone', 'instead', 'smiling', 'rather', 'severelooking', 'woman', 'wearing', 'square', 'glasses', 'exactly', 'shape', 'markings', 'cat', 'around', 'eyes', 'wearing', 'cloak', 'emerald', 'one', 'black', 'hair', 'drawn', 'tight', 'bun', 'looked', 'distinctly', 'ruffled'], ['know', 'asked'], ['dear', 'professor', 'never', 'seen', 'cat', 'sit', 'stiffly'], ['youd', 'stiff', 'youd', 'sitting', 'brick', 'wall', 'day', 'said', 'professor', 'mcgonagall'], ['day', 'could', 'celebrating', 'must', 'passed', 'dozen', 'feasts', 'parties', 'way'], ['professor', 'mcgonagall', 'sniffed', 'angrily'], ['oh', 'yes', 'everyones', 'celebrating', 'right', 'said', 'impatiently'], ['youd', 'think', 'theyd', 'bit', 'careful', 'even', 'muggles', 'noticed', 'somethings', 'going', 'news', 'jerked', 'head', 'back', 'dursleys', 'dark', 'livingroom', 'window', 'heard', 'flocks', 'owls', 'shooting', 'stars', 'well', 'theyre', 'completely', 'stupid', 'bound', 'notice', 'something', 'shooting', 'stars', 'kent', 'ill', 'bet', 'dedalus', 'diggle', 'never', 'much', 'sense'], ['cant', 'blame', 'said', 'dumbledore', 'gently', 'weve', 'precious', 'little', 'celebrate', 'eleven', 'years'], ['know', 'said', 'professor', 'mcgonagall', 'irritably', 'thats', 'reason', 'lose', 'heads', 'people', 'downright', 'careless', 'streets', 'broad', 'daylight', 'even', 'dressed', 'muggle', 'clothes', 'swapping', 'rumors'], ['threw', 'sharp', 'sideways', 'glance', 'dumbledore', 'though', 'hoping', 'going', 'tell', 'something', 'didnt', 'went', 'fine', 'thing', 'would', 'day', 'youknowwho', 'seems', 'disappeared', 'last', 'muggles', 'found', 'us', 'suppose', 'really', 'gone', 'dumbledore'], ['certainly', 'seems', 'said', 'dumbledore', 'much', 'thankful', 'would', 'care', 'lemon', 'drop'], [], ['lemon', 'drop', 'theyre', 'kind', 'muggle', 'sweet', 'im', 'rather', 'fond'], ['thank', 'said', 'professor', 'mcgonagall', 'coldly', 'though', 'didnt', 'think', 'moment', 'lemon', 'drops', 'say', 'even', 'youknowwho', 'gone'], ['dear', 'professor', 'surely', 'sensible', 'person', 'like', 'call', 'name', 'knowwho', 'nonsense', 'eleven', 'years', 'trying', 'persuade', 'people', 'call', 'proper', 'name', 'voldemort', 'professor', 'mcgonagall', 'flinched', 'dumbledore', 'unsticking', 'two', 'lemon', 'drops', 'seemed', 'notice', 'gets', 'confusing', 'keep', 'saying', 'youknowwho', 'never', 'seen', 'reason', 'frightened', 'saying', 'voldemorts', 'name'], ['know', 'said', 'professor', 'mcgonagall', 'sounding', 'half', 'exasperated', 'half', 'admiring', 'youre', 'different', 'everyone', 'knows', 'youre', 'one', 'youknow', 'oh', 'right', 'voldemort', 'frightened'], ['flatter', 'said', 'dumbledore', 'calmly', 'voldemort', 'powers', 'never'], ['youre', 'well', 'noble', 'use'], ['lucky', 'dark', 'havent', 'blushed', 'much', 'since', 'madam', 'pomfrey', 'told', 'liked', 'new', 'earmuffs'], ['professor', 'mcgonagall', 'shot', 'sharp', 'look', 'dumbledore', 'said', 'owls', 'nothing', 'next', 'rumors', 'flying', 'around', 'know', 'everyones', 'saying', 'hes', 'disappeared', 'finally', 'stopped'], ['seemed', 'professor', 'mcgonagall', 'reached', 'point', 'anxious', 'discuss', 'real', 'reason', 'waiting', 'cold', 'hard', 'wall', 'day', 'neither', 'cat', 'woman', 'fixed', 'dumbledore', 'piercing', 'stare', 'plain', 'whatever', 'everyone', 'saying', 'going', 'believe', 'dumbledore', 'told', 'true', 'dumbledore', 'however', 'choosing', 'another', 'lemon', 'drop', 'answer'], ['theyre', 'saying', 'pressed', 'last', 'night', 'voldemort', 'turned', 'godrics', 'hollow', 'went', 'find', 'potters', 'rumor', 'lily', 'james', 'potter', 'theyre', 'dead'], ['dumbledore', 'bowed', 'head', 'professor', 'mcgonagall', 'gasped'], ['lily', 'james', 'cant', 'believe', 'didnt', 'want', 'believe'], ['oh', 'albus'], ['dumbledore', 'reached', 'patted', 'shoulder', 'know', 'know', 'said', 'heavily'], ['professor', 'mcgonagalls', 'voice', 'trembled', 'went', 'thats'], ['theyre', 'saying', 'tried', 'kill', 'potters', 'son', 'harry', 'couldnt', 'couldnt', 'kill', 'little', 'boy', 'one', 'knows', 'theyre', 'saying', 'couldnt', 'kill', 'harry', 'potter', 'voldemorts', 'power', 'somehow', 'broke', 'thats', 'hes', 'gone'], ['dumbledore', 'nodded', 'glumly'], ['true', 'faltered', 'professor', 'mcgonagall', 'hes', 'done', 'people', 'hes', 'killed', 'couldnt', 'kill', 'little', 'boy', 'astounding', 'things', 'stop', 'name', 'heaven', 'harry', 'survive'], ['guess', 'said', 'dumbledore', 'may', 'never', 'know'], ['professor', 'mcgonagall', 'pulled', 'lace', 'handkerchief', 'dabbed', 'eyes', 'beneath', 'spectacles', 'dumbledore', 'gave', 'great', 'sniff', 'took', 'golden', 'watch', 'pocket', 'examined', 'odd', 'watch'], ['twelve', 'hands', 'numbers', 'instead', 'little', 'planets', 'moving', 'around', 'edge', 'must', 'made', 'sense', 'dumbledore', 'though', 'put', 'back', 'pocket', 'said', 'hagrids', 'late', 'suppose', 'told', 'id', 'way'], ['yes', 'said', 'professor', 'mcgonagall', 'dont', 'suppose', 'youre', 'going', 'tell', 'youre', 'places'], ['ive', 'come', 'bring', 'harry', 'aunt', 'uncle', 'theyre', 'family', 'left'], ['dont', 'mean', 'cant', 'mean', 'people', 'live', 'cried', 'professor', 'mcgonagall', 'jumping', 'feet', 'pointing', 'number', 'four'], ['dumbledore', 'cant', 'ive', 'watching', 'day', 'couldnt', 'find', 'two', 'people', 'less', 'like', 'us', 'theyve', 'got', 'son', 'saw', 'kicking', 'mother', 'way', 'street', 'screaming', 'sweets'], ['harry', 'potter', 'come', 'live'], ['best', 'place', 'said', 'dumbledore', 'firmly', 'aunt', 'uncle', 'able', 'explain', 'everything', 'hes', 'older', 'ive', 'written', 'letter'], ['letter', 'repeated', 'professor', 'mcgonagall', 'faintly', 'sitting', 'back', 'wall', 'really', 'dumbledore', 'think', 'explain', 'letter', 'people', 'never', 'understand', 'hell', 'famous', 'legend', 'wouldnt', 'surprised', 'today', 'known', 'harry', 'potter', 'day', 'future', 'books', 'written', 'harry', 'every', 'child', 'world', 'know', 'name'], ['exactly', 'said', 'dumbledore', 'looking', 'seriously', 'top', 'halfmoon', 'glasses', 'would', 'enough', 'turn', 'boys', 'head', 'famous', 'walk', 'talk', 'famous', 'something', 'wont', 'even', 'remember', 'cara', 'see', 'much', 'better', 'hell', 'growing', 'away', 'hes', 'ready', 'take'], ['professor', 'mcgonagall', 'opened', 'mouth', 'changed', 'mind', 'swallowed', 'said', 'yes', 'yes', 'youre', 'right', 'course', 'boy', 'getting', 'dumbledore', 'eyed', 'cloak', 'suddenly', 'though', 'thought', 'might', 'hiding', 'harry', 'underneath'], ['hagrids', 'bringing'], ['think', 'wise', 'trust', 'hagrid', 'something', 'important'], ['would', 'trust', 'hagrid', 'life', 'said', 'dumbledore'], ['im', 'saying', 'heart', 'isnt', 'right', 'place', 'said', 'professor', 'mcgonagall', 'grudgingly', 'cant', 'pretend', 'hes', 'careless', 'tend'], ['low', 'rumbling', 'sound', 'broken', 'silence', 'around', 'grew', 'steadily', 'louder', 'looked', 'street', 'sign', 'headlight', 'swelled', 'roar', 'looked', 'sky', 'huge', 'motorcycle', 'fell', 'air', 'landed', 'road', 'front'], ['motorcycle', 'huge', 'nothing', 'man', 'sitting', 'astride', 'almost', 'twice', 'tall', 'normal', 'man', 'least', 'five', 'times', 'wide', 'looked', 'simply', 'big', 'allowed', 'wild', 'long', 'tangles', 'bushy', 'black', 'hair', 'beard', 'hid', 'face', 'hands', 'size', 'trash', 'lids', 'feet', 'leather', 'boots', 'like', 'baby', 'dolphins', 'vast', 'muscular', 'arms', 'holding', 'bundle', 'blankets'], ['hagrid', 'said', 'dumbledore', 'sounding', 'relieved', 'last', 'get', 'motorcycle'], ['borrowed', 'professor', 'dumbledore', 'sit', 'said', 'giant', 'climbing', 'carefully', 'motorcycle', 'spoke', 'young', 'sirius', 'black', 'lent', 'ive', 'got', 'sir'], ['problems'], ['sir', 'house', 'almost', 'destroyed', 'got', 'right', 'muggles', 'started', 'swarmin', 'around', 'fell', 'asleep', 'flyin', 'bristol'], ['dumbledore', 'professor', 'mcgonagall', 'bent', 'forward', 'bundle', 'blankets', 'inside', 'visible', 'baby', 'boy', 'fast', 'asleep', 'tuft', 'jetblack', 'hair', 'forehead', 'could', 'see', 'curiously', 'shaped', 'cut', 'like', 'bolt', 'lightning'], ['whispered', 'professor', 'mcgonagall'], ['yes', 'said', 'dumbledore', 'hell', 'scar', 'forever'], ['couldnt', 'something', 'dumbledore'], ['even', 'could', 'wouldnt', 'scars', 'come', 'handy', 'one', 'left', 'knee', 'perfect', 'map', 'london', 'underground', 'well', 'give', 'hagrid', 'wed', 'better', 'get'], ['dumbledore', 'took', 'harry', 'arms', 'turned', 'toward', 'dursleys', 'house'], ['could', 'could', 'say', 'goodbye', 'sir', 'asked', 'hagrid', 'bent', 'great', 'shaggy', 'head', 'harry', 'gave', 'must', 'scratchy', 'whiskery', 'kiss', 'suddenly', 'hagrid', 'let', 'howl', 'like', 'wounded', 'dog'], ['shhh', 'hissed', 'professor', 'mcgonagall', 'youll', 'wake', 'muggles'], ['sssorry', 'sobbed', 'hagrid', 'taking', 'large', 'spotted', 'handkerchief', 'burying', 'face', 'cccant', 'stand', 'lily', 'james', 'dead', 'poor', 'little', 'harry', 'ter', 'live', 'muggles'], ['yes', 'yes', 'sad', 'get', 'grip', 'hagrid', 'well', 'found', 'professor', 'mcgonagall', 'whispered', 'patting', 'hagrid', 'gingerly', 'arm', 'dumbledore', 'stepped', 'low', 'garden', 'wall', 'walked', 'front', 'door', 'laid', 'harry', 'gently', 'doorstep', 'took', 'letter', 'cloak', 'tucked', 'inside', 'harrys', 'blankets', 'came', 'back', 'two', 'full', 'minute', 'three', 'stood', 'looked', 'little', 'bundle', 'hagrids', 'shoulders', 'shook', 'professor', 'mcgonagall', 'blinked', 'furiously', 'twinkling', 'light', 'usually', 'shone', 'dumbledores', 'eyes', 'seemed', 'gone'], ['well', 'said', 'dumbledore', 'finally', 'thats', 'weve', 'business', 'staying', 'may', 'well', 'go', 'join', 'celebrations'], ['yeah', 'said', 'hagrid', 'muffled', 'voice', 'ill', 'takin', 'sirius', 'bike', 'back', 'gnight', 'professor', 'mcgonagall', 'professor', 'dumbledore', 'sir'], ['wiping', 'streaming', 'eyes', 'jacket', 'sleeve', 'hagrid', 'swung', 'onto', 'motorcycle', 'kicked', 'engine', 'life', 'roar', 'rose', 'air', 'night'], ['shall', 'see', 'soon', 'expect', 'professor', 'mcgonagall', 'said', 'dumbledore', 'nodding', 'professor', 'mcgonagall', 'blew', 'nose', 'reply'], ['dumbledore', 'turned', 'walked', 'back', 'street', 'corner', 'stopped', 'took', 'silver', 'putouter', 'clicked', 'twelve', 'balls', 'light', 'sped', 'back', 'street', 'lamps', 'privet', 'drive', 'glowed', 'suddenly', 'orange', 'could', 'make', 'tabby', 'cat', 'slinking', 'around', 'corner', 'end', 'street', 'could', 'see', 'bundle', 'blankets', 'step', 'number', 'four'], ['good', 'luck', 'harry', 'murmured', 'turned', 'heel', 'swish', 'cloak', 'gone'], ['breeze', 'ruffled', 'neat', 'hedges', 'privet', 'drive', 'lay', 'silent', 'tidy', 'inky', 'sky', 'last', 'place', 'would', 'expect', 'astonishing', 'things', 'happen', 'harry', 'potter', 'rolled', 'inside', 'blankets', 'without', 'waking', 'one', 'small', 'hand', 'closed', 'letter', 'beside', 'slept', 'knowing', 'special', 'knowing', 'famous', 'knowing', 'would', 'woken', 'hours', 'time', 'mrs', 'dursleys', 'scream', 'opened', 'front', 'door', 'put', 'milk', 'bottles', 'would', 'spend', 'next', 'weeks', 'prodded', 'pinched', 'cousin', 'dudley', 'couldnt', 'know', 'moment', 'people', 'meeting', 'secret', 'country', 'holding', 'glasses', 'saying', 'hushed', 'voices', 'harry', 'potter', 'boy', 'lived'], ['chapter', 'two'], ['vanishing', 'glass'], ['nearly', 'ten', 'years', 'passed', 'since', 'dursleys', 'woken', 'find', 'nephew', 'front', 'step', 'privet', 'drive', 'hardly', 'changed', 'sun', 'rose', 'tidy', 'front', 'gardens', 'lit', 'brass', 'number', 'four', 'dursleys', 'front', 'door', 'crept', 'living', 'room', 'almost', 'exactly', 'night', 'mr', 'dursley', 'seen', 'fateful', 'news', 'report', 'owls', 'photographs', 'mantelpiece', 'really', 'showed', 'much', 'time', 'passed'], ['ten', 'years', 'ago', 'lots', 'pictures', 'looked', 'like', 'large', 'pink', 'beach', 'ball', 'wearing', 'differentcolored', 'bonnets', 'dudley', 'dursley', 'longer', 'baby', 'photographs', 'showed', 'large', 'blond', 'boy', 'riding', 'first', 'bicycle', 'carousel', 'fair', 'playing', 'computer', 'game', 'father', 'hugged', 'kissed', 'mother'], ['room', 'held', 'sign', 'another', 'boy', 'lived', 'house'], ['yet', 'harry', 'potter', 'still', 'asleep', 'moment', 'long', 'aunt', 'petunia', 'awake', 'shrill', 'voice', 'made', 'first', 'noise', 'day'], ['get'], ['harry', 'woke', 'start', 'aunt', 'rapped', 'door'], ['screeched', 'harry', 'heard', 'walking', 'toward', 'kitchen', 'sound', 'frying', 'pan', 'put', 'stove', 'rolled', 'onto', 'back', 'tried', 'remember', 'dream', 'good', 'one', 'flying', 'motorcycle', 'funny', 'feeling', 'hed', 'dream'], ['aunt', 'back', 'outside', 'door'], ['yet', 'demanded'], ['nearly', 'said', 'harry'], ['well', 'get', 'move', 'want', 'look', 'bacon', 'dont', 'dare', 'let', 'burn', 'want', 'everything', 'perfect', 'duddys', 'birthday'], ['harry', 'groaned'], ['say', 'aunt', 'snapped', 'door'], ['nothing', 'nothing'], ['dudleys', 'birthday', 'could', 'forgotten', 'harry', 'got', 'slowly', 'bed', 'started', 'looking', 'socks', 'found', 'pair', 'bed', 'pulling', 'spider', 'one', 'put', 'harry', 'used', 'spiders', 'cupboard', 'stairs', 'full', 'slept'], ['dressed', 'went', 'hall', 'kitchen', 'table', 'almost', 'hidden', 'beneath', 'dudleys', 'birthday', 'presents', 'looked', 'though', 'dudley', 'gotten', 'new', 'computer', 'wanted', 'mention', 'second', 'television', 'racing', 'bike', 'exactly', 'dudley', 'wanted', 'racing', 'bike', 'mystery', 'harry', 'dudley', 'fat', 'hated', 'exercise', 'unless', 'course', 'involved', 'punching', 'somebody', 'dudleys', 'favorite', 'punching', 'bag', 'harry', 'couldnt', 'often', 'catch', 'harry', 'didnt', 'look', 'fast'], ['perhaps', 'something', 'living', 'dark', 'cupboard', 'harry', 'always', 'small', 'skinny', 'age', 'looked', 'even', 'smaller', 'skinnier', 'really', 'wear', 'old', 'clothes', 'dudleys', 'dudley', 'four', 'times', 'bigger', 'harry', 'thin', 'face', 'knobbly', 'knees', 'black', 'hair', 'bright', 'green', 'eyes', 'wore', 'round', 'glasses', 'held', 'together', 'lot', 'scotch', 'tape', 'times', 'dudley', 'punched', 'nose', 'thing', 'harry', 'liked', 'appearance', 'thin', 'scar', 'forehead', 'shaped', 'like', 'bolt', 'lightning', 'long', 'could', 'remember', 'first', 'question', 'could', 'ever', 'remember', 'asking', 'aunt', 'petunia', 'gotten'], ['car', 'crash', 'parents', 'died', 'said', 'dont', 'ask', 'questions'], ['dont', 'ask', 'questions', 'first', 'rule', 'quiet', 'life', 'dursleys'], ['uncle', 'vernon', 'entered', 'kitchen', 'harry', 'turning', 'bacon'], ['comb', 'hair', 'barked', 'way', 'morning', 'greeting'], ['week', 'uncle', 'vernon', 'looked', 'top', 'newspaper', 'shouted', 'harry', 'needed', 'haircut', 'harry', 'must', 'haircuts', 'rest', 'boys', 'class', 'put', 'together', 'made', 'difference', 'hair', 'simply', 'grew', 'way', 'place'], ['harry', 'frying', 'eggs', 'time', 'dudley', 'arrived', 'kitchen', 'mother', 'dudley', 'looked', 'lot', 'like', 'uncle', 'vernon', 'large', 'pink', 'face', 'much', 'neck', 'small', 'watery', 'blue', 'eyes', 'thick', 'blond', 'hair', 'lay', 'smoothly', 'thick', 'fat', 'head', 'aunt', 'petunia', 'often', 'said', 'dudley', 'looked', 'like', 'baby', 'angel', 'harry', 'often', 'said', 'dudley', 'looked', 'like', 'pig', 'wig'], ['harry', 'put', 'plates', 'egg', 'bacon', 'table', 'difficult', 'wasnt', 'much', 'room', 'dudley', 'meanwhile', 'counting', 'presents'], ['face', 'fell'], ['thirtysix', 'said', 'looking', 'mother', 'father', 'thats', 'two', 'less', 'last', 'year'], ['darling', 'havent', 'counted', 'auntie', 'marges', 'present', 'see', 'big', 'one', 'mommy', 'daddy'], ['right', 'thirtyseven', 'said', 'dudley', 'going', 'red', 'face'], ['harry', 'could', 'see', 'huge', 'dudley', 'tantrum', 'coming', 'began', 'wolfing', 'bacon', 'fast', 'possible', 'case', 'dudley', 'turned', 'table'], ['aunt', 'petunia', 'obviously', 'scented', 'danger', 'said', 'quickly', 'well', 'buy', 'another', 'two', 'presents', 'today', 'hows', 'popkin', 'two', 'presents', 'right', 'dudley', 'thought', 'moment', 'looked', 'like', 'hard', 'work', 'finally', 'said', 'slowly', 'ill', 'thirty', 'thirty'], ['thirtynine', 'sweetums', 'said', 'aunt', 'petunia'], ['oh', 'dudley', 'sat', 'heavily', 'grabbed', 'nearest', 'parcel', 'right'], ['uncle', 'vernon', 'chuckled', 'little', 'tyke', 'wants', 'moneys', 'worth', 'like', 'father', 'atta', 'boy', 'dudley', 'ruffled', 'dudleys', 'hair'], ['moment', 'telephone', 'rang', 'aunt', 'petunia', 'went', 'answer', 'harry', 'uncle', 'vernon', 'watched', 'dudley', 'unwrap', 'racing', 'bike', 'video', 'camera', 'remote', 'control', 'airplane', 'sixteen', 'new', 'computer', 'games', 'vcr', 'ripping', 'paper', 'gold', 'wristwatch', 'aunt', 'petunia', 'came', 'back', 'telephone', 'looking', 'angry', 'worried'], ['bad', 'news', 'vernon', 'said', 'mrs', 'figgs', 'broken', 'leg', 'cant', 'take', 'jerked', 'head', 'harrys', 'direction'], ['dudleys', 'mouth', 'fell', 'open', 'horror', 'harrys', 'heart', 'gave', 'leap', 'every', 'year', 'dudleys', 'birthday', 'parents', 'took', 'friend', 'day', 'adventure', 'parks', 'hamburger', 'restaurants', 'movies', 'every', 'year', 'harry', 'left', 'behind', 'mrs', 'figg', 'mad', 'old', 'lady', 'lived', 'two', 'streets', 'away', 'harry', 'hated', 'whole', 'house', 'smelled', 'cabbage', 'mrs', 'figg', 'made', 'look', 'photographs', 'cats', 'shed', 'ever', 'owned'], ['said', 'aunt', 'petunia', 'looking', 'furiously', 'harry', 'though', 'hed', 'planned', 'harry', 'knew', 'ought', 'feel', 'sorry', 'mrs', 'figg', 'broken', 'leg', 'wasnt', 'easy', 'reminded', 'would', 'whole', 'year', 'look', 'tibbles', 'snowy', 'mr', 'paws', 'tufty'], ['could', 'phone', 'marge', 'uncle', 'vernon', 'suggested'], ['dont', 'silly', 'vernon', 'hates', 'boy'], ['dursleys', 'often', 'spoke', 'harry', 'like', 'though', 'wasnt', 'rather', 'though', 'something', 'nasty', 'couldnt', 'understand', 'like', 'slug'], ['whatshername', 'friend', 'yvonne'], ['vacation', 'majorca', 'snapped', 'aunt', 'petunia'], ['could', 'leave', 'harry', 'put', 'hopefully', 'hed', 'able', 'watch', 'wanted', 'television', 'change', 'maybe', 'even', 'go', 'dudleys', 'computer'], ['aunt', 'petunia', 'looked', 'though', 'shed', 'swallowed', 'lemon'], ['come', 'back', 'find', 'house', 'ruins', 'snarled'], ['wont', 'blow', 'house', 'said', 'harry', 'werent', 'listening'], ['suppose', 'could', 'take', 'zoo', 'said', 'aunt', 'petunia', 'slowly'], ['leave', 'car'], ['cars', 'new', 'hes', 'sitting', 'alone'], ['dudley', 'began', 'cry', 'loudly', 'fact', 'wasnt', 'really', 'crying', 'years', 'since', 'hed', 'really', 'cried', 'knew', 'screwed', 'face', 'wailed', 'mother', 'would', 'give', 'anything', 'wanted'], ['dinky', 'duddydums', 'dont', 'cry', 'mummy', 'wont', 'let', 'spoil', 'special', 'day', 'cried', 'flinging', 'arms', 'around'], ['dont', 'want', 'ttto', 'come', 'dudley', 'yelled', 'huge', 'pretend', 'sobs', 'always', 'sp', 'spoils', 'everything', 'shot', 'harry', 'nasty', 'grin', 'gap', 'mothers', 'arms'], ['doorbell', 'rang', 'oh', 'good', 'lord', 'theyre', 'said', 'aunt', 'petunia', 'frantically', 'moment', 'later', 'dudleys', 'best', 'friend', 'piers', 'polkiss', 'walked', 'mother', 'piers', 'scrawny', 'boy', 'face', 'like', 'rat', 'usually', 'one', 'held', 'peoples', 'arms', 'behind', 'backs', 'dudley', 'hit', 'dudley', 'stopped', 'pretending', 'cry'], ['half', 'hour', 'later', 'harry', 'couldnt', 'believe', 'luck', 'sitting', 'back', 'dursleys', 'car', 'piers', 'dudley', 'way', 'zoo', 'first', 'time', 'life', 'aunt', 'uncle', 'hadnt', 'able', 'think', 'anything', 'else', 'theyd', 'left', 'uncle', 'vernon', 'taken', 'harry', 'aside'], ['im', 'warning', 'said', 'putting', 'large', 'purple', 'face', 'right', 'close', 'harrys', 'im', 'warning', 'boy', 'funny', 'business', 'anything', 'youll', 'cupboard', 'christmas'], ['im', 'going', 'anything', 'said', 'harry', 'honestly'], ['uncle', 'vernon', 'didnt', 'believe', 'one', 'ever'], ['problem', 'strange', 'things', 'often', 'happened', 'around', 'harry', 'good', 'telling', 'dursleys', 'didnt', 'make', 'happen'], ['aunt', 'petunia', 'tired', 'harry', 'coming', 'back', 'barbers', 'looking', 'though', 'hadnt', 'taken', 'pair', 'kitchen', 'scissors', 'cut', 'hair', 'short', 'almost', 'bald', 'except', 'bangs', 'left', 'hide', 'horrible', 'scar', 'dudley', 'laughed', 'silly', 'harry', 'spent', 'sleepless', 'night', 'imagining', 'school', 'next', 'day', 'already', 'laughed', 'baggy', 'clothes', 'taped', 'glasses'], ['next', 'morning', 'however', 'gotten', 'find', 'hair', 'exactly', 'aunt', 'petunia', 'sheared', 'given', 'week', 'cupboard', 'even', 'though', 'tried', 'explain', 'couldnt', 'explain', 'grown', 'back', 'quickly'], ['another', 'time', 'aunt', 'petunia', 'trying', 'force', 'revolting', 'old', 'sweater', 'dudleys', 'brown', 'orange', 'puff', 'balls', 'harder', 'tried', 'pull', 'head', 'smaller', 'seemed', 'become', 'finally', 'might', 'fitted', 'hand', 'puppet', 'certainly', 'wouldnt', 'fit', 'harry', 'aunt', 'petunia', 'decided', 'must', 'shrunk', 'wash', 'great', 'relief', 'harry', 'wasnt', 'punished'], ['hand', 'hed', 'gotten', 'terrible', 'trouble', 'found', 'roof', 'school', 'kitchens', 'dudleys', 'gang', 'chasing', 'usual', 'much', 'harrys', 'surprise', 'anyone', 'elses', 'sitting', 'chimney', 'dursleys', 'received', 'angry', 'letter', 'harrys', 'headmistress', 'telling', 'harry', 'climbing', 'school', 'buildings', 'hed', 'tried', 'shouted', 'uncle', 'vernon', 'locked', 'door', 'cupboard', 'jump', 'behind', 'big', 'trash', 'cans', 'outside', 'kitchen', 'doors', 'harry', 'supposed', 'wind', 'must', 'caught', 'mid', 'jump'], ['today', 'nothing', 'going', 'go', 'wrong', 'even', 'worth', 'dudley', 'piers', 'spending', 'day', 'somewhere', 'wasnt', 'school', 'cupboard', 'mrs', 'figgs', 'cabbagesmelling', 'living', 'room'], ['drove', 'uncle', 'vernon', 'complained', 'aunt', 'petunia', 'liked', 'complain', 'things', 'people', 'work', 'harry', 'council', 'harry', 'bank', 'harry', 'favorite', 'subjects', 'morning', 'motorcycles'], ['roaring', 'along', 'like', 'maniacs', 'young', 'hoodlums', 'said', 'motorcycle', 'overtook'], ['dream', 'motorcycle', 'said', 'harry', 'remembering', 'suddenly', 'flying'], ['uncle', 'vernon', 'nearly', 'crashed', 'car', 'front', 'turned', 'right', 'around', 'seat', 'yelled', 'harry', 'face', 'like', 'gigantic', 'beet', 'mustache', 'motorcycles', 'dont', 'fly'], ['dudley', 'piers', 'sniggered'], ['know', 'dont', 'said', 'harry', 'dream'], ['wished', 'hadnt', 'said', 'anything', 'one', 'thing', 'dursleys', 'hated', 'even', 'asking', 'questions', 'talking', 'anything', 'acting', 'way', 'shouldnt', 'matter', 'dream', 'even', 'cartoon', 'seemed', 'think', 'might', 'get', 'dangerous', 'ideas'], ['sunny', 'saturday', 'zoo', 'crowded', 'families', 'dursleys', 'bought', 'dudley', 'piers', 'large', 'chocolate', 'ice', 'creams', 'entrance', 'smiling', 'lady', 'van', 'asked', 'harry', 'wanted', 'could', 'hurry', 'away', 'bought', 'cheap', 'lemon', 'ice', 'pop', 'wasnt', 'bad', 'either', 'harry', 'thought', 'licking', 'watched', 'gorilla', 'scratching', 'head', 'looked', 'remarkably', 'like', 'dudley', 'except', 'wasnt', 'blond'], ['harry', 'best', 'morning', 'hed', 'long', 'time', 'careful', 'walk', 'little', 'way', 'apart', 'dursleys', 'dudley', 'piers', 'starting', 'get', 'bored', 'animals', 'lunchtime', 'wouldnt', 'fall', 'back', 'favorite', 'hobby', 'hitting', 'ate', 'zoo', 'restaurant', 'dudley', 'tantrum', 'knickerbocker', 'glory', 'didnt', 'enough', 'ice', 'cream', 'top', 'uncle', 'vernon', 'bought', 'another', 'one', 'harry', 'allowed', 'finish', 'first'], ['harry', 'felt', 'afterward', 'known', 'good', 'last'], ['lunch', 'went', 'reptile', 'house', 'cool', 'dark', 'lit', 'windows', 'along', 'walls', 'behind', 'glass', 'sorts', 'lizards', 'snakes', 'crawling', 'slithering', 'bits', 'wood', 'stone', 'dudley', 'piers', 'wanted', 'see', 'huge', 'poisonous', 'cobras', 'thick', 'mancrushing', 'pythons', 'dudley', 'quickly', 'found', 'largest', 'snake', 'place', 'could', 'wrapped', 'body', 'twice', 'around', 'uncle', 'vernons', 'car', 'crushed', 'trash', 'moment', 'didnt', 'look', 'mood', 'fact', 'fast', 'asleep'], ['dudley', 'stood', 'nose', 'pressed', 'glass', 'staring', 'glistening', 'brown', 'coils'], ['make', 'move', 'whined', 'father', 'uncle', 'vernon', 'tapped', 'glass', 'snake', 'didnt', 'budge'], ['dudley', 'ordered', 'uncle', 'vernon', 'rapped', 'glass', 'smartly', 'knuckles', 'snake', 'snoozed'], ['boring', 'dudley', 'moaned', 'shuffled', 'away'], ['harry', 'moved', 'front', 'tank', 'looked', 'intently', 'snake', 'wouldnt', 'surprised', 'died', 'boredom', 'company', 'except', 'stupid', 'people', 'drumming', 'fingers', 'glass', 'trying', 'disturb', 'day', 'long', 'worse', 'cupboard', 'bedroom', 'visitor', 'aunt', 'petunia', 'hammering', 'door', 'wake', 'least', 'got', 'visit', 'rest', 'house'], ['snake', 'suddenly', 'opened', 'beady', 'eyes', 'slowly', 'slowly', 'raised', 'head', 'eyes', 'level', 'harrys'], ['winked'], ['harry', 'stared', 'looked', 'quickly', 'around', 'see', 'anyone', 'watching', 'werent', 'looked', 'back', 'snake', 'winked'], ['snake', 'jerked', 'head', 'toward', 'uncle', 'vernon', 'dudley', 'raised', 'eyes', 'ceiling', 'gave', 'harry', 'look', 'said', 'quite', 'plainly', 'get', 'time'], ['know', 'harry', 'murmured', 'glass', 'though', 'wasnt', 'sure', 'snake', 'could', 'hear', 'must', 'really', 'annoying'], ['snake', 'nodded', 'vigorously'], ['come', 'anyway', 'harry', 'asked'], ['snake', 'jabbed', 'tail', 'little', 'sign', 'next', 'glass', 'harry', 'peered'], ['boa', 'constrictor', 'brazil'], ['nice'], ['boa', 'constrictor', 'jabbed', 'tail', 'sign', 'harry', 'read', 'specimen', 'bred', 'zoo', 'oh', 'see', 'youve', 'never', 'brazil'], ['snake', 'shook', 'head', 'deafening', 'shout', 'behind', 'harry', 'made', 'jump'], ['dudley', 'mr', 'dursley', 'come', 'look', 'snake', 'wont', 'believe'], ['dudley', 'came', 'waddling', 'toward', 'fast', 'could'], ['way', 'said', 'punching', 'harry', 'ribs', 'caught', 'surprise', 'harry', 'fell', 'hard', 'concrete', 'floor', 'came', 'next', 'happened', 'fast', 'one', 'saw', 'happened', 'one', 'second', 'piers', 'dudley', 'leaning', 'right', 'close', 'glass', 'next', 'leapt', 'back', 'howls', 'horror'], ['harry', 'sat', 'gasped', 'glass', 'front', 'boa', 'constrictors', 'tank', 'vanished', 'great', 'snake', 'uncoiling', 'rapidly', 'slithering', 'onto', 'floor', 'people', 'throughout', 'reptile', 'house', 'screamed', 'started', 'running', 'exits'], ['snake', 'slid', 'swiftly', 'past', 'harry', 'could', 'sworn', 'low', 'hissing', 'voice', 'said', 'brazil', 'come', 'thanksss', 'amigo'], ['keeper', 'reptile', 'house', 'shock'], ['glass', 'kept', 'saying', 'glass', 'go'], ['zoo', 'director', 'made', 'aunt', 'petunia', 'cup', 'strong', 'sweet', 'tea', 'apologized', 'piers', 'dudley', 'could', 'gibber', 'far', 'harry', 'seen', 'snake', 'hadnt', 'done', 'anything', 'except', 'snap', 'playfully', 'heels', 'passed', 'time', 'back', 'uncle', 'vernons', 'car', 'dudley', 'telling', 'nearly', 'bitten', 'leg', 'piers', 'swearing', 'tried', 'squeeze', 'death', 'worst', 'harry', 'least', 'piers', 'calming', 'enough', 'say', 'harry', 'talking', 'werent', 'harry'], ['uncle', 'vernon', 'waited', 'piers', 'safely', 'house', 'starting', 'harry', 'angry', 'could', 'hardly', 'speak', 'managed', 'say', 'go', 'cupboard', 'stay', 'meals', 'collapsed', 'chair', 'aunt', 'petunia', 'run', 'get', 'large', 'brandy'], ['harry', 'lay', 'dark', 'cupboard', 'much', 'later', 'wishing', 'watch', 'didnt', 'know', 'time', 'couldnt', 'sure', 'dursleys', 'asleep', 'yet', 'couldnt', 'risk', 'sneaking', 'kitchen', 'food'], ['hed', 'lived', 'dursleys', 'almost', 'ten', 'years', 'ten', 'miserable', 'years', 'long', 'could', 'remember', 'ever', 'since', 'hed', 'baby', 'parents', 'died', 'car', 'crash', 'couldnt', 'remember', 'car', 'parents', 'died', 'sometimes', 'strained', 'memory', 'long', 'hours', 'cupboard', 'came', 'strange', 'vision', 'blinding', 'flash', 'green', 'light', 'burn', 'ing', 'pain', 'forehead', 'supposed', 'crash', 'though', 'couldnt', 'imagine', 'green', 'light', 'came', 'couldnt', 'remember', 'parents', 'aunt', 'uncle', 'never', 'spoke', 'course', 'forbidden', 'ask', 'questions', 'photographs', 'house'], ['younger', 'harry', 'dreamed', 'dreamed', 'unknown', 'relation', 'coming', 'take', 'away', 'never', 'happened', 'dursleys', 'family', 'yet', 'sometimes', 'thought', 'maybe', 'hoped', 'strangers', 'street', 'seemed', 'know', 'strange', 'strangers', 'tiny', 'man', 'violet', 'top', 'hat', 'bowed', 'shopping', 'aunt', 'petunia', 'dudley', 'asking', 'harry', 'furiously', 'knew', 'man', 'aunt', 'petunia', 'rushed', 'shop', 'without', 'buying', 'anything', 'wildlooking', 'old', 'woman', 'dressed', 'green', 'waved', 'merrily', 'bus', 'bald', 'man', 'long', 'purple', 'coat', 'actually', 'shaken', 'hand', 'street', 'day', 'walked', 'away', 'without', 'word', 'weirdest', 'thing', 'people', 'way', 'seemed', 'vanish', 'second', 'harry', 'tried', 'get', 'closer', 'look'], ['school', 'harry', 'one', 'everybody', 'knew', 'dudleys', 'gang', 'hated', 'odd', 'harry', 'potter', 'baggy', 'old', 'clothes', 'broken', 'glasses', 'nobody', 'liked', 'disagree', 'dudleys', 'gang'], ['chapter', 'three'], ['letters', 'one'], ['escape', 'brazilian', 'boa', 'constrictor', 'earned', 'harry', 'longestever', 'punishment', 'time', 'allowed', 'cupboard', 'summer', 'holidays', 'started', 'dudley', 'already', 'broken', 'new', 'video', 'camera', 'crashed', 'remote', 'control', 'airplane', 'first', 'time', 'racing', 'bike', 'knocked', 'old', 'mrs', 'figg', 'crossed', 'privet', 'drive', 'crutches'], ['harry', 'glad', 'school', 'escaping', 'dudleys', 'gang', 'visited', 'house', 'every', 'single', 'day', 'piers', 'dennis', 'malcolm', 'gordon', 'big', 'stupid', 'dudley', 'biggest', 'stupidest', 'lot', 'leader', 'rest', 'quite', 'happy', 'join', 'dudleys', 'favorite', 'sport', 'harry', 'hunting'], ['harry', 'spent', 'much', 'time', 'possible', 'house', 'wandering', 'around', 'thinking', 'end', 'holidays', 'could', 'see', 'tiny', 'ray', 'hope', 'september', 'came', 'would', 'going', 'secondary', 'school', 'first', 'time', 'life', 'wouldnt', 'dudley', 'dudley', 'accepted', 'uncle', 'vernons', 'old', 'private', 'school', 'smeltings', 'piers', 'polkiss', 'going', 'harry', 'hand', 'going', 'stonewall', 'high', 'local', 'public', 'school', 'dudley', 'thought', 'funny'], ['stuff', 'peoples', 'heads', 'toilet', 'first', 'day', 'stonewall'], ['told', 'harry', 'want', 'come', 'upstairs', 'practice'], ['thanks', 'said', 'harry', 'poor', 'toilets', 'never', 'anything', 'horrible', 'head', 'might', 'sick', 'ran', 'dudley', 'could', 'work', 'hed', 'said'], ['one', 'day', 'july', 'aunt', 'petunia', 'took', 'dudley', 'london', 'buy', 'smeltings', 'uniform', 'leaving', 'harry', 'mrs', 'figgs', 'mrs', 'figg', 'bad', 'usual', 'turned', 'shed', 'broken', 'leg', 'tripping', 'one', 'cats', 'didnt', 'seem', 'quite', 'fond', 'let', 'harry', 'watch', 'television', 'gave', 'bit', 'chocolate', 'cake', 'tasted', 'though', 'shed', 'several', 'years'], ['evening', 'dudley', 'paraded', 'around', 'living', 'room', 'family', 'brandnew', 'uniform', 'smeltings', 'boys', 'wore', 'maroon', 'tailcoats', 'orange', 'knickerbockers', 'flat', 'straw', 'hats', 'called', 'boaters', 'also', 'carried', 'knobbly', 'sticks', 'used', 'hitting', 'teachers', 'werent', 'looking', 'supposed', 'good', 'training', 'later', 'life'], ['looked', 'dudley', 'new', 'knickerbockers', 'uncle', 'vernon', 'said', 'gruffly', 'proudest', 'moment', 'life', 'aunt', 'petunia', 'burst', 'tears', 'said', 'couldnt', 'believe', 'ickle', 'dudleykins', 'looked', 'handsome', 'grownup', 'harry', 'didnt', 'trust', 'speak', 'thought', 'two', 'ribs', 'might', 'already', 'cracked', 'trying', 'laugh'], ['horrible', 'smell', 'kitchen', 'next', 'morning', 'harry', 'went', 'breakfast', 'seemed', 'coming', 'large', 'metal', 'tub', 'sink', 'went', 'look', 'tub', 'full', 'looked', 'like', 'dirty', 'rags', 'swimming', 'gray', 'water'], ['whats', 'asked', 'aunt', 'petunia', 'lips', 'tightened', 'always', 'dared', 'ask', 'question'], ['new', 'school', 'uniform', 'said'], ['harry', 'looked', 'bowl'], ['oh', 'said', 'didnt', 'realize', 'wet'], ['dota', 'stupid', 'snapped', 'aunt', 'petunia', 'im', 'dyeing', 'dudleys', 'old', 'things', 'gray', 'itll', 'look', 'like', 'everyone', 'elses', 'ive', 'finished'], ['harry', 'seriously', 'doubted', 'thought', 'best', 'argue', 'sat', 'table', 'tried', 'think', 'going', 'look', 'first', 'day', 'stonewall', 'high', 'like', 'wearing', 'bits', 'old', 'elephant', 'skin', 'probably'], ['dudley', 'uncle', 'vernon', 'came', 'wrinkled', 'noses', 'smell', 'harrys', 'new', 'uniform', 'uncle', 'vernon', 'opened', 'newspaper', 'usual', 'dudley', 'banged', 'smelting', 'stick', 'carried', 'everywhere', 'table'], ['heard', 'click', 'mail', 'slot', 'flop', 'letters', 'doormat'], ['get', 'mail', 'dudley', 'said', 'uncle', 'vernon', 'behind', 'paper'], ['make', 'harry', 'get'], ['get', 'mail', 'harry'], ['make', 'dudley', 'get'], ['poke', 'smelting', 'stick', 'dudley'], ['harry', 'dodged', 'smelting', 'stick', 'went', 'get', 'mail', 'three', 'things', 'lay', 'doormat', 'postcard', 'uncle', 'vernons', 'sister', 'marge', 'vacationing', 'isle', 'wight', 'brown', 'envelope', 'looked', 'like', 'bill', 'letter', 'harry'], ['harry', 'picked', 'stared', 'heart', 'twanging', 'like', 'giant', 'elastic', 'band', 'one', 'ever', 'whole', 'life', 'written', 'would', 'friends', 'relatives', 'didnt', 'belong', 'library', 'hed', 'never', 'even', 'got', 'rude', 'notes', 'asking', 'books', 'back', 'yet', 'letter', 'addressed', 'plainly', 'could', 'mistake', 'mr', 'h', 'potter', 'cupboard', 'stairs', 'privet', 'drive', 'little', 'whinging', 'surrey', 'envelope', 'thick', 'heavy', 'made', 'yellowish', 'parchment', 'address', 'written', 'emeraldgreen', 'ink', 'stamp'], ['turning', 'envelope', 'hand', 'trembling', 'harry', 'saw', 'purple', 'wax', 'seal', 'bearing', 'coat', 'arms', 'lion', 'eagle', 'badger', 'snake', 'surrounding', 'large', 'letter', 'h'], ['hurry', 'boy', 'shouted', 'uncle', 'vernon', 'kitchen', 'checking', 'letter', 'bombs', 'chuckled', 'joke'], ['harry', 'went', 'back', 'kitchen', 'still', 'staring', 'letter', 'handed', 'uncle', 'vernon', 'bill', 'postcard', 'sat', 'slowly', 'began', 'open', 'yellow', 'envelope'], ['uncle', 'vernon', 'ripped', 'open', 'bill', 'snorted', 'disgust', 'flipped', 'postcard'], ['marges', 'ill', 'informed', 'aunt', 'petunia', 'ate', 'funny', 'whelk'], ['dad', 'said', 'dudley', 'suddenly', 'dad', 'harrys', 'got', 'something'], ['harry', 'point', 'unfolding', 'letter', 'written', 'heavy', 'parchment', 'envelope', 'jerked', 'sharply', 'hand', 'uncle', 'vernon'], ['thats', 'mine', 'said', 'harry', 'trying', 'snatch', 'back'], ['whod', 'writing', 'sneered', 'uncle', 'vernon', 'shaking', 'letter', 'open', 'one', 'hand', 'glancing', 'face', 'went', 'red', 'green', 'faster', 'set', 'traffic', 'lights', 'didnt', 'stop', 'within', 'seconds', 'grayish', 'white', 'old', 'porridge'], ['pppetunia', 'gasped'], ['dudley', 'tried', 'grab', 'letter', 'read', 'uncle', 'vernon', 'held', 'high', 'reach', 'aunt', 'petunia', 'took', 'curiously', 'read', 'first', 'line', 'moment', 'looked', 'though', 'might', 'faint', 'clutched', 'throat', 'made', 'choking', 'noise'], ['vernon', 'oh', 'goodness', 'vernon'], ['stared', 'seeming', 'forgotten', 'harry', 'dudley', 'still', 'room', 'dudley', 'wasnt', 'used', 'ignored', 'gave', 'father', 'sharp', 'tap', 'head', 'smelting', 'stick'], ['want', 'read', 'letter', 'said', 'loudly', 'want', 'read', 'said', 'harry', 'furiously', 'mine'], ['get', 'croaked', 'uncle', 'vernon', 'stuffing', 'letter', 'back', 'inside', 'envelope'], ['harry', 'didnt', 'move'], ['want', 'letter', 'shouted'], ['let', 'see', 'demanded', 'dudley'], ['roared', 'uncle', 'vernon', 'took', 'harry', 'dudley', 'scruffs', 'necks', 'threw', 'hall', 'slamming', 'kitchen', 'door', 'behind', 'harry', 'dudley', 'promptly', 'furious', 'silent', 'fight', 'would', 'listen', 'keyhole', 'dudley', 'harry', 'glasses', 'dangling', 'one', 'ear', 'lay', 'flat', 'stomach', 'listen', 'crack', 'door', 'floor'], ['vernon', 'aunt', 'petunia', 'saying', 'quivering', 'voice', 'look', 'address', 'could', 'possibly', 'know', 'sleeps', 'dont', 'think', 'theyre', 'watching', 'house'], ['watching', 'spying', 'might', 'following', 'us', 'muttered', 'uncle', 'vernon', 'wildly'], ['vernon', 'write', 'back', 'tell', 'dont', 'want'], ['harry', 'could', 'see', 'uncle', 'vernons', 'shiny', 'black', 'shoes', 'pacing', 'kitchen'], ['said', 'finally', 'well', 'ignore', 'dont', 'get', 'answer', 'yes', 'thats', 'best', 'wont', 'anything'], [], ['im', 'one', 'house', 'petunia', 'didnt', 'swear', 'took', 'wed', 'stamp', 'dangerous', 'nonsense'], ['evening', 'got', 'back', 'work', 'uncle', 'vernon', 'something', 'hed', 'never', 'done', 'visited', 'harry', 'cupboard'], ['wheres', 'letter', 'said', 'harry', 'moment', 'uncle', 'vernon', 'squeezed', 'door', 'whos', 'writing'], ['one', 'addressed', 'mistake', 'said', 'uncle', 'vernon', 'shortly'], ['burned'], ['mistake', 'said', 'harry', 'angrily', 'cupboard'], ['silence', 'yelled', 'uncle', 'vernon', 'couple', 'spiders', 'fell', 'ceiling', 'took', 'deep', 'breaths', 'forced', 'face', 'smile', 'looked', 'quite', 'painful'], ['er', 'yes', 'harry', 'cupboard', 'aunt', 'thinking', 'youre', 'really', 'getting', 'bit', 'big', 'think', 'might', 'nice', 'moved', 'dudleys', 'second', 'bedroom'], ['said', 'harry'], ['dont', 'ask', 'questions', 'snapped', 'uncle', 'take', 'stuff', 'upstairs'], ['dursleys', 'house', 'four', 'bedrooms', 'one', 'uncle', 'vernon', 'aunt', 'petunia', 'one', 'visitors', 'usually', 'uncle', 'vernons', 'sister', 'marge', 'one', 'dudley', 'slept', 'one', 'dudley', 'kept', 'toys', 'things', 'wouldnt', 'fit', 'first', 'bedroom', 'took', 'harry', 'one', 'trip', 'upstairs', 'move', 'everything', 'owned', 'cupboard', 'room', 'sat', 'bed', 'stared', 'around', 'nearly', 'everything', 'broken', 'monthold', 'video', 'camera', 'lying', 'top', 'small', 'working', 'tank', 'dudley', 'driven', 'next', 'door', 'neighbors', 'dog', 'corner', 'dudleys', 'firstever', 'television', 'set', 'hed', 'put', 'foot', 'favorite', 'program', 'canceled', 'large', 'birdcage', 'held', 'parrot', 'dudley', 'swapped', 'school', 'real', 'air', 'rifle', 'shelf', 'end', 'bent', 'dudley', 'sat', 'shelves', 'full', 'books', 'things', 'room', 'looked', 'though', 'theyd', 'never', 'touched'], ['downstairs', 'came', 'sound', 'dudley', 'bawling', 'mother', 'dont', 'want', 'need', 'room', 'make', 'get'], ['harry', 'sighed', 'stretched', 'bed', 'yesterday', 'hed', 'given', 'anything', 'today', 'hed', 'rather', 'back', 'cupboard', 'letter', 'without'], ['next', 'morning', 'breakfast', 'everyone', 'rather', 'quiet', 'dudley', 'shock', 'hed', 'screamed', 'whacked', 'father', 'smelting', 'stick', 'sick', 'purpose', 'kicked', 'mother', 'thrown', 'tortoise', 'greenhouse', 'roof', 'still', 'didnt', 'room', 'back', 'harry', 'thinking', 'time', 'yesterday', 'bitterly', 'wishing', 'hed', 'opened', 'letter', 'hall', 'uncle', 'vernon', 'aunt', 'petunia', 'kept', 'looking', 'darkly'], ['mail', 'arrived', 'uncle', 'vernon', 'seemed', 'trying', 'nice', 'harry', 'made', 'dudley', 'go', 'get', 'heard', 'banging', 'things', 'smelting', 'stick', 'way', 'hall', 'shouted', 'theres', 'another', 'one', 'mr', 'h', 'potter', 'smallest', 'bedroom', 'privet', 'drive'], ['strangled', 'cry', 'uncle', 'vernon', 'leapt', 'seat', 'ran', 'hall', 'harry', 'right', 'behind', 'uncle', 'vernon', 'wrestle', 'dudley', 'ground', 'get', 'letter', 'made', 'difficult', 'fact', 'harry', 'grabbed', 'uncle', 'vernon', 'around', 'neck', 'behind', 'minute', 'confused', 'fighting', 'everyone', 'got', 'hit', 'lot', 'smelting', 'stick', 'uncle', 'vernon', 'straightened', 'gasping', 'breath', 'harrys', 'letter', 'clutched', 'hand'], ['go', 'cupboard', 'mean', 'bedroom', 'wheezed', 'harry'], ['dudley', 'go', 'go'], ['harry', 'walked', 'round', 'round', 'new', 'room', 'someone', 'knew', 'moved', 'cupboard', 'seemed', 'know', 'hadnt', 'received', 'first', 'letter', 'surely', 'meant', 'theyd', 'try', 'time', 'hed', 'make', 'sure', 'didnt', 'fail', 'plan'], ['repaired', 'alarm', 'clock', 'rang', 'six', 'oclock', 'next', 'morning', 'harry', 'turned', 'quickly', 'dressed', 'silently', 'mustnt', 'wake', 'dursleys', 'stole', 'downstairs', 'without', 'turning', 'lights'], ['going', 'wait', 'postman', 'corner', 'privet', 'drive', 'get', 'letters', 'number', 'four', 'first', 'heart', 'hammered', 'crept', 'across', 'dark', 'hall', 'toward', 'front', 'door', 'harry', 'leapt', 'air', 'hed', 'trodden', 'something', 'big', 'squashy', 'doormat', 'something', 'alive', 'lights', 'clicked', 'upstairs', 'horror', 'harry', 'realized', 'big', 'squashy', 'something', 'uncles', 'face', 'uncle', 'vernon', 'lying', 'foot', 'front', 'door', 'sleeping', 'bag', 'clearly', 'making', 'sure', 'harry', 'didnt', 'exactly', 'hed', 'trying', 'shouted', 'harry', 'half', 'hour', 'told', 'go', 'make', 'cup', 'tea', 'harry', 'shuffled', 'miserably', 'kitchen', 'time', 'got', 'back', 'mail', 'arrived', 'right', 'uncle', 'vernons', 'lap']]\n"
          ],
          "name": "stdout"
        }
      ]
    },
    {
      "metadata": {
        "id": "PBEX2moUS75T",
        "colab_type": "code",
        "colab": {
          "base_uri": "https://localhost:8080/",
          "height": 54
        },
        "outputId": "aa96b4cb-da92-43d5-e768-9bf4ba6d11e7"
      },
      "cell_type": "code",
      "source": [
        "hing_words = remove_hindi_stopwords(hinglish[\"text\"])"
      ],
      "execution_count": 96,
      "outputs": [
        {
          "output_type": "stream",
          "text": [
            "['ke', 'ka', 'ek', 'mein', 'ki', 'hai', 'yah', 'aur', 'se', 'hain', 'ko', 'par', 'iss', 'hota', 'jo', 'kar', 'me', 'gaya', 'karne', 'kiya', 'liye', 'apne', 'ne', 'bani', 'nahi', 'toh', 'hi', 'ya', 'avam', 'diya', 'ho', 'iska', 'tha', 'dhvara', 'hua', 'tak', 'saath', 'karna', 'vaale', 'baad', 'liya', 'aap', 'kuchh', 'sakte', 'kisi', 'ye', 'iska', 'sabse', 'ismein', 'the', 'do', 'hone', 'vah', 've', 'karte', 'bahut', 'kaha', 'varg', 'kai', 'karein', 'hoti', 'apni', 'unke', 'thi', 'yadi', 'hui', 'jaa', 'na', 'ise', 'kehte', 'kahte', 'jab', 'hote', 'koi', 'hue', 'va', 'abhi', 'jaise', 'sabhi', 'karta', 'unki', 'tarah', 'uss', 'aadi', 'kul', 'raha', 'iski', 'sakta', 'rahe', 'unka', 'issi', 'rakhein', 'apna', 'pe', 'uske']\n"
          ],
          "name": "stdout"
        }
      ]
    },
    {
      "metadata": {
        "id": "RdeE8o8eu1Oj",
        "colab_type": "code",
        "colab": {}
      },
      "cell_type": "code",
      "source": [
        "def create_words(hw, ew):\n",
        "  ls = []\n",
        "\n",
        "  count = 0\n",
        "  for i in hing_words:\n",
        "    for j in i:\n",
        "      ls.append((list(j),1))\n",
        "  ls = ls[:5000]    \n",
        "  print(\"Total hinglish words = \",len(ls)) \n",
        "\n",
        "  for i in eng_words:\n",
        "    for j in i:\n",
        "      ls.append((list(j),0))\n",
        "      count += 1   \n",
        "  print(\"Total english words = \",count)    \n",
        "  random.shuffle(ls)  \n",
        "  \n",
        "  return ls\n",
        "    \n",
        "    "
      ],
      "execution_count": 0,
      "outputs": []
    },
    {
      "metadata": {
        "id": "YX4lPlkY_Z8s",
        "colab_type": "code",
        "colab": {
          "base_uri": "https://localhost:8080/",
          "height": 52
        },
        "outputId": "a3af5aed-6d89-4d7c-9bf3-5903bdf379b3"
      },
      "cell_type": "code",
      "source": [
        "ls = create_words(hing_words, eng_words)"
      ],
      "execution_count": 98,
      "outputs": [
        {
          "output_type": "stream",
          "text": [
            "Total hinglish words =  5000\n",
            "Total english words =  5559\n"
          ],
          "name": "stdout"
        }
      ]
    },
    {
      "metadata": {
        "id": "nr6OeiTpvSl1",
        "colab_type": "code",
        "colab": {
          "base_uri": "https://localhost:8080/",
          "height": 34
        },
        "outputId": "ad0a653c-1086-42e0-8d58-bd9efb3718c0"
      },
      "cell_type": "code",
      "source": [
        "len(ls)\n",
        "# ls[0]"
      ],
      "execution_count": 99,
      "outputs": [
        {
          "output_type": "execute_result",
          "data": {
            "text/plain": [
              "10559"
            ]
          },
          "metadata": {
            "tags": []
          },
          "execution_count": 99
        }
      ]
    },
    {
      "metadata": {
        "id": "kBXbOlh-yQ7j",
        "colab_type": "code",
        "colab": {}
      },
      "cell_type": "code",
      "source": [
        "alpha = {\"a\":0,\"b\":1,\"c\":2,\"d\":3,\"e\":4,\"f\":5,\"g\":6,\"h\":7,\"i\":8,\"j\":9,\"k\":10,\"l\":11,\"m\":12,\"n\":13,\"o\":14,\"p\":15,\"q\":16,\"r\":17,\"s\":18,\"t\":19,\"u\":20,\"v\":21,\"w\":22,\"x\":23,\"y\":24,\"z\":25}\n",
        "# alpha"
      ],
      "execution_count": 0,
      "outputs": []
    },
    {
      "metadata": {
        "id": "UHKx5sAZdI5u",
        "colab_type": "code",
        "colab": {}
      },
      "cell_type": "code",
      "source": [
        "words = [w[0] for w in ls]\n",
        "labels = [w[1] for w in ls]"
      ],
      "execution_count": 0,
      "outputs": []
    },
    {
      "metadata": {
        "id": "Ruq2kKJ4iP63",
        "colab_type": "code",
        "colab": {}
      },
      "cell_type": "code",
      "source": [
        "max_length = len(max(words, key = len))"
      ],
      "execution_count": 0,
      "outputs": []
    },
    {
      "metadata": {
        "id": "KMkeJ_iSeWUw",
        "colab_type": "code",
        "colab": {}
      },
      "cell_type": "code",
      "source": [
        "train_x, test_x, train_y, test_y = train_test_split(words, labels, shuffle = True, test_size = 0.15)"
      ],
      "execution_count": 0,
      "outputs": []
    },
    {
      "metadata": {
        "id": "EJLiQBU6e5bh",
        "colab_type": "code",
        "colab": {
          "base_uri": "https://localhost:8080/",
          "height": 52
        },
        "outputId": "50a00780-2ba1-4878-9ff3-f99f750651e8"
      },
      "cell_type": "code",
      "source": [
        "print(\"Train data : \", \"train_X = \" ,len(train_x), \"labels = \" , len(train_y))\n",
        "print(\"Test data = \", \"test_X = \" ,len(test_x), \"labels = \" , len(test_y))"
      ],
      "execution_count": 104,
      "outputs": [
        {
          "output_type": "stream",
          "text": [
            "Train data :  train_X =  8975 labels =  8975\n",
            "Test data =  test_X =  1584 labels =  1584\n"
          ],
          "name": "stdout"
        }
      ]
    },
    {
      "metadata": {
        "id": "CdtoueKu1JsK",
        "colab_type": "code",
        "colab": {}
      },
      "cell_type": "code",
      "source": [
        "#Function to create indexing of characters in the word\n",
        "\n",
        "def create_indexing(data):\n",
        "  final = []\n",
        "\n",
        "  for i in data:\n",
        "    new = []\n",
        "    for j in i:\n",
        "      new.append(alpha[j])\n",
        "    final.append(new)  \n",
        "\n",
        "  return final  "
      ],
      "execution_count": 0,
      "outputs": []
    },
    {
      "metadata": {
        "id": "aymT70Xvc2WA",
        "colab_type": "code",
        "colab": {}
      },
      "cell_type": "code",
      "source": [
        "final_train = create_indexing(train_x)\n",
        "final_test = create_indexing(test_x)"
      ],
      "execution_count": 0,
      "outputs": []
    },
    {
      "metadata": {
        "id": "kf8rkqQB4V_a",
        "colab_type": "code",
        "colab": {
          "base_uri": "https://localhost:8080/",
          "height": 34
        },
        "outputId": "319714e8-cc56-4aa5-c931-f2c5e1ea6a05"
      },
      "cell_type": "code",
      "source": [
        "len(max(final_train,key = len))"
      ],
      "execution_count": 107,
      "outputs": [
        {
          "output_type": "execute_result",
          "data": {
            "text/plain": [
              "17"
            ]
          },
          "metadata": {
            "tags": []
          },
          "execution_count": 107
        }
      ]
    },
    {
      "metadata": {
        "id": "9speCDL45zFt",
        "colab_type": "code",
        "colab": {}
      },
      "cell_type": "code",
      "source": [
        "def create_padding(data):\n",
        "  padded_docs = []\n",
        "  for i in data:\n",
        "    p = np.pad(i, (0, (max_length - len(i))), mode = \"constant\", constant_values = 0)\n",
        "    padded_docs.append(p)\n",
        "\n",
        "  return padded_docs"
      ],
      "execution_count": 0,
      "outputs": []
    },
    {
      "metadata": {
        "id": "2w0c9qG-85sW",
        "colab_type": "code",
        "colab": {}
      },
      "cell_type": "code",
      "source": [
        "padded_train_docs = create_padding(final_train)\n",
        "padded_test_docs = create_padding(final_test)"
      ],
      "execution_count": 0,
      "outputs": []
    },
    {
      "metadata": {
        "id": "i9xsrsjPVQlX",
        "colab_type": "code",
        "colab": {
          "base_uri": "https://localhost:8080/",
          "height": 34
        },
        "outputId": "410dbfbc-7aba-4060-f1d5-980c82b7c618"
      },
      "cell_type": "code",
      "source": [
        "padded_train_docs[0]"
      ],
      "execution_count": 110,
      "outputs": [
        {
          "output_type": "execute_result",
          "data": {
            "text/plain": [
              "array([17, 14, 14, 15,  0,  0,  0,  0,  0,  0,  0,  0,  0,  0,  0,  0,  0])"
            ]
          },
          "metadata": {
            "tags": []
          },
          "execution_count": 110
        }
      ]
    },
    {
      "metadata": {
        "id": "W59VMR95pE_0",
        "colab_type": "code",
        "colab": {
          "base_uri": "https://localhost:8080/",
          "height": 52
        },
        "outputId": "b3fa0615-4bc0-48fb-d390-4ded0ccffb71"
      },
      "cell_type": "code",
      "source": [
        "print(\"Length of padded train data = \",len(padded_train_docs))\n",
        "print(\"Length of padded test data = \",len(padded_test_docs))"
      ],
      "execution_count": 111,
      "outputs": [
        {
          "output_type": "stream",
          "text": [
            "Length of padded train data =  8975\n",
            "Length of padded test data =  1584\n"
          ],
          "name": "stdout"
        }
      ]
    },
    {
      "metadata": {
        "id": "26OstZil9AX8",
        "colab_type": "code",
        "colab": {
          "base_uri": "https://localhost:8080/",
          "height": 34
        },
        "outputId": "f10d10e5-e0ac-45e6-eb30-ca7f1d5e9459"
      },
      "cell_type": "code",
      "source": [
        "padded_train_docs[0].shape"
      ],
      "execution_count": 112,
      "outputs": [
        {
          "output_type": "execute_result",
          "data": {
            "text/plain": [
              "(17,)"
            ]
          },
          "metadata": {
            "tags": []
          },
          "execution_count": 112
        }
      ]
    },
    {
      "metadata": {
        "id": "b8YNXwh7A_qC",
        "colab_type": "code",
        "colab": {}
      },
      "cell_type": "code",
      "source": [
        "def create_encoded_docs(pad_docs, num_of_samples):\n",
        "  num_alpha = 26\n",
        "\n",
        "  encoded_docs = np.zeros((num_of_samples, max_length, num_alpha))\n",
        "  print(encoded_docs.shape)\n",
        "\n",
        "  for nu,i in enumerate(pad_docs):\n",
        "    for n, j in enumerate(i):\n",
        "      encoded_docs[nu][n] = to_categorical(j, num_classes = 26)\n",
        "\n",
        "  return encoded_docs"
      ],
      "execution_count": 0,
      "outputs": []
    },
    {
      "metadata": {
        "id": "fRxkf-PWXDXY",
        "colab_type": "code",
        "colab": {
          "base_uri": "https://localhost:8080/",
          "height": 52
        },
        "outputId": "634e1b80-dc7a-4d3f-aea7-d81fd9e463ea"
      },
      "cell_type": "code",
      "source": [
        "encoded_train_docs = create_encoded_docs(padded_train_docs, len(padded_train_docs))\n",
        "encoded_test_docs = create_encoded_docs(padded_test_docs, len(padded_test_docs))"
      ],
      "execution_count": 116,
      "outputs": [
        {
          "output_type": "stream",
          "text": [
            "(8975, 17, 26)\n",
            "(1584, 17, 26)\n"
          ],
          "name": "stdout"
        }
      ]
    },
    {
      "metadata": {
        "id": "qwAPmmPl83G0",
        "colab_type": "code",
        "colab": {}
      },
      "cell_type": "code",
      "source": [
        "#Converting labels list into arrays\n",
        "train_y = np.asarray(train_y)\n",
        "test_y = np.asarray(test_y)"
      ],
      "execution_count": 0,
      "outputs": []
    },
    {
      "metadata": {
        "id": "RQyYkGQ3lC9w",
        "colab_type": "code",
        "colab": {
          "base_uri": "https://localhost:8080/",
          "height": 34
        },
        "outputId": "1acda296-4b1b-4904-b9ca-efc1c821461d"
      },
      "cell_type": "code",
      "source": [
        "print(\"Train Labels shape = \",train_y.shape, \"Test labels shape = \",test_y.shape)"
      ],
      "execution_count": 118,
      "outputs": [
        {
          "output_type": "stream",
          "text": [
            "Train Labels shape =  (8975,) Test labels shape =  (1584,)\n"
          ],
          "name": "stdout"
        }
      ]
    },
    {
      "metadata": {
        "id": "7BSIUkLd4XdE",
        "colab_type": "code",
        "colab": {
          "base_uri": "https://localhost:8080/",
          "height": 208
        },
        "outputId": "9b75dfe2-f909-40c3-ef86-9802159d43a8"
      },
      "cell_type": "code",
      "source": [
        "#Creating Model\n",
        "\n",
        "clf = Sequential()\n",
        "clf.add(LSTM(8, input_shape = (17, 26)))\n",
        "clf.add(Dense(1,activation = \"sigmoid\"))\n",
        "\n",
        "clf.compile(optimizer = \"adam\", loss = \"binary_crossentropy\", metrics = [\"accuracy\"])\n",
        "clf.summary()\n"
      ],
      "execution_count": 55,
      "outputs": [
        {
          "output_type": "stream",
          "text": [
            "_________________________________________________________________\n",
            "Layer (type)                 Output Shape              Param #   \n",
            "=================================================================\n",
            "lstm_1 (LSTM)                (None, 8)                 1120      \n",
            "_________________________________________________________________\n",
            "dense_1 (Dense)              (None, 1)                 9         \n",
            "=================================================================\n",
            "Total params: 1,129\n",
            "Trainable params: 1,129\n",
            "Non-trainable params: 0\n",
            "_________________________________________________________________\n"
          ],
          "name": "stdout"
        }
      ]
    },
    {
      "metadata": {
        "id": "dFK0frzh-Uir",
        "colab_type": "code",
        "colab": {
          "base_uri": "https://localhost:8080/",
          "height": 86
        },
        "outputId": "b057df3d-1e49-4d15-caa4-018f1627bb2f"
      },
      "cell_type": "code",
      "source": [
        "clf.fit(encoded_train_docs, train_y, epochs = 1, batch_size = 64, validation_data = (encoded_test_docs, test_y))"
      ],
      "execution_count": 56,
      "outputs": [
        {
          "output_type": "stream",
          "text": [
            "Train on 8975 samples, validate on 1584 samples\n",
            "Epoch 1/1\n",
            "8975/8975 [==============================] - 3s 296us/step - loss: 0.6900 - acc: 0.5444 - val_loss: 0.6845 - val_acc: 0.6717\n"
          ],
          "name": "stdout"
        },
        {
          "output_type": "execute_result",
          "data": {
            "text/plain": [
              "<keras.callbacks.History at 0x7f50ef363be0>"
            ]
          },
          "metadata": {
            "tags": []
          },
          "execution_count": 56
        }
      ]
    },
    {
      "metadata": {
        "id": "It0GT0hU-7PW",
        "colab_type": "code",
        "colab": {}
      },
      "cell_type": "code",
      "source": [
        "clf.save(\"my_first_model.h5\")"
      ],
      "execution_count": 0,
      "outputs": []
    },
    {
      "metadata": {
        "id": "bnODHYdfrPHO",
        "colab_type": "code",
        "colab": {}
      },
      "cell_type": "code",
      "source": [
        "model = load_model(\"my_first_model.h5\")"
      ],
      "execution_count": 0,
      "outputs": []
    },
    {
      "metadata": {
        "id": "z1p73V00X1pd",
        "colab_type": "code",
        "colab": {}
      },
      "cell_type": "code",
      "source": [
        "def predict(test_str):\n",
        "  test_words = word_tokenize(test_str)\n",
        "  test_char = []\n",
        "  for i in test_words:\n",
        "    test_char.append(list(i.lower()))\n",
        "    \n",
        "  test_index = create_indexing(test_char)\n",
        "#   print(test_index)\n",
        "  \n",
        "  test_pad = create_padding(test_index)\n",
        "  \n",
        "  test_encode = create_encoded_docs(test_pad, len(test_pad))\n",
        "  \n",
        "  res = model.predict_classes(test_encode)\n",
        "  \n",
        "  return (res)\n",
        "  "
      ],
      "execution_count": 0,
      "outputs": []
    },
    {
      "metadata": {
        "id": "Hk9Sdw57aFxt",
        "colab_type": "code",
        "colab": {
          "base_uri": "https://localhost:8080/",
          "height": 52
        },
        "outputId": "0e5d0fb1-5e9b-486a-bd97-2774adff3629"
      },
      "cell_type": "code",
      "source": [
        "result = predict(\"hermoine\")\n",
        "print(result)"
      ],
      "execution_count": 141,
      "outputs": [
        {
          "output_type": "stream",
          "text": [
            "(1, 17, 26)\n",
            "[[0]]\n"
          ],
          "name": "stdout"
        }
      ]
    },
    {
      "metadata": {
        "id": "U8sgzGrJdpnG",
        "colab_type": "code",
        "colab": {}
      },
      "cell_type": "code",
      "source": [
        ""
      ],
      "execution_count": 0,
      "outputs": []
    }
  ]
}